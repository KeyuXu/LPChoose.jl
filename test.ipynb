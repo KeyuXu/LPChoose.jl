{
 "cells": [
  {
   "cell_type": "code",
   "execution_count": 1,
   "metadata": {},
   "outputs": [],
   "source": [
    "using DataFrames,LinearAlgebra,CSV,DelimitedFiles,SparseArrays,GLPK,JuMP,Statistics, StatsBase"
   ]
  },
  {
   "cell_type": "code",
   "execution_count": 32,
   "metadata": {},
   "outputs": [
    {
     "data": {
      "text/plain": [
       "select_these_animals (generic function with 1 method)"
      ]
     },
     "execution_count": 32,
     "metadata": {},
     "output_type": "execute_result"
    }
   ],
   "source": [
    "include(\"LPChoose.jl\")"
   ]
  },
  {
   "cell_type": "code",
   "execution_count": 33,
   "metadata": {},
   "outputs": [
    {
     "name": "stdout",
     "output_type": "stream",
     "text": [
      "--------------INPUT----------------------------\n",
      "#Animal:6000\n",
      "#Unique Haplotypes:27473\n",
      "Haplotype Frequency Summary Stats:\n",
      "Length:         27473\n",
      "Missing Count:  0\n",
      "Mean:           0.007280\n",
      "Minimum:        0.000167\n",
      "1st Quartile:   0.000167\n",
      "Median:         0.000500\n",
      "3rd Quartile:   0.002000\n",
      "Maximum:        0.398333\n",
      "\n",
      "--------------QUALITY CONTROL-------------------\n",
      "----------minor haplotype frequency: 0.01--------\n",
      "#Animal:6000\n",
      "#Unique Haplotypes:3826\n",
      "Haplotype Frequency Summary Stats:\n",
      "Length:         3826\n",
      "Missing Count:  0\n",
      "Mean:           0.045800\n",
      "Minimum:        0.010167\n",
      "1st Quartile:   0.017667\n",
      "Median:         0.031333\n",
      "3rd Quartile:   0.058292\n",
      "Maximum:        0.398333\n",
      "\n",
      "---------------2ND APPLICATION--------------------\n",
      "------------identify best 100 animals--------------\n",
      "--representing maximum proportions of haplotypes--\n",
      "-----------RUN LINEAR PROGRAMMING-----------------\n",
      "\n",
      "HAHA2\n"
     ]
    },
    {
     "name": "stderr",
     "output_type": "stream",
     "text": [
      "\u001b[32midentifying most representative animals ...  2%|▏       |  ETA: 0:00:27\u001b[39m"
     ]
    },
    {
     "name": "stdout",
     "output_type": "stream",
     "text": [
      "HAHA2\n"
     ]
    },
    {
     "name": "stderr",
     "output_type": "stream",
     "text": [
      "\u001b[32midentifying most representative animals ...  4%|▍       |  ETA: 0:00:23\u001b[39m"
     ]
    },
    {
     "name": "stdout",
     "output_type": "stream",
     "text": [
      "HAHA2\n"
     ]
    },
    {
     "name": "stderr",
     "output_type": "stream",
     "text": [
      "\u001b[32midentifying most representative animals ...  6%|▌       |  ETA: 0:00:20\u001b[39m"
     ]
    },
    {
     "name": "stdout",
     "output_type": "stream",
     "text": [
      "HAHA2\n"
     ]
    },
    {
     "name": "stderr",
     "output_type": "stream",
     "text": [
      "\u001b[32midentifying most representative animals ...  8%|▋       |  ETA: 0:00:18\u001b[39m"
     ]
    },
    {
     "name": "stdout",
     "output_type": "stream",
     "text": [
      "HAHA2\n"
     ]
    },
    {
     "name": "stderr",
     "output_type": "stream",
     "text": [
      "\u001b[32midentifying most representative animals ... 10%|▊       |  ETA: 0:00:16\u001b[39m"
     ]
    },
    {
     "name": "stdout",
     "output_type": "stream",
     "text": [
      "HAHA2\n"
     ]
    },
    {
     "name": "stderr",
     "output_type": "stream",
     "text": [
      "\u001b[32midentifying most representative animals ... 12%|█       |  ETA: 0:00:15\u001b[39m"
     ]
    },
    {
     "name": "stdout",
     "output_type": "stream",
     "text": [
      "HAHA2\n"
     ]
    },
    {
     "name": "stderr",
     "output_type": "stream",
     "text": [
      "\u001b[32midentifying most representative animals ... 14%|█▏      |  ETA: 0:00:13\u001b[39m"
     ]
    },
    {
     "name": "stdout",
     "output_type": "stream",
     "text": [
      "HAHA2\n"
     ]
    },
    {
     "name": "stderr",
     "output_type": "stream",
     "text": [
      "\u001b[32midentifying most representative animals ... 16%|█▎      |  ETA: 0:00:12\u001b[39m"
     ]
    },
    {
     "name": "stdout",
     "output_type": "stream",
     "text": [
      "HAHA2\n"
     ]
    },
    {
     "name": "stderr",
     "output_type": "stream",
     "text": [
      "\u001b[32midentifying most representative animals ... 18%|█▌      |  ETA: 0:00:11\u001b[39m"
     ]
    },
    {
     "name": "stdout",
     "output_type": "stream",
     "text": [
      "HAHA2\n"
     ]
    },
    {
     "name": "stderr",
     "output_type": "stream",
     "text": [
      "\u001b[32midentifying most representative animals ... 20%|█▋      |  ETA: 0:00:10\u001b[39m"
     ]
    },
    {
     "name": "stdout",
     "output_type": "stream",
     "text": [
      "HAHA2\n",
      "HAHA2\n"
     ]
    },
    {
     "name": "stderr",
     "output_type": "stream",
     "text": [
      "\u001b[32midentifying most representative animals ... 24%|█▉      |  ETA: 0:00:09\u001b[39m"
     ]
    },
    {
     "name": "stdout",
     "output_type": "stream",
     "text": [
      "HAHA2\n"
     ]
    },
    {
     "name": "stderr",
     "output_type": "stream",
     "text": [
      "\u001b[32midentifying most representative animals ... 26%|██▏     |  ETA: 0:00:08\u001b[39m"
     ]
    },
    {
     "name": "stdout",
     "output_type": "stream",
     "text": [
      "HAHA2\n",
      "HAHA2\n"
     ]
    },
    {
     "name": "stderr",
     "output_type": "stream",
     "text": [
      "\u001b[32midentifying most representative animals ... 30%|██▍     |  ETA: 0:00:07\u001b[39m"
     ]
    },
    {
     "name": "stdout",
     "output_type": "stream",
     "text": [
      "HAHA2\n",
      "HAHA2\n"
     ]
    },
    {
     "name": "stderr",
     "output_type": "stream",
     "text": [
      "\u001b[32midentifying most representative animals ... 34%|██▊     |  ETA: 0:00:06\u001b[39m"
     ]
    },
    {
     "name": "stdout",
     "output_type": "stream",
     "text": [
      "HAHA2\n",
      "HAHA2\n"
     ]
    },
    {
     "name": "stderr",
     "output_type": "stream",
     "text": [
      "\u001b[32midentifying most representative animals ... 38%|███     |  ETA: 0:00:05\u001b[39m"
     ]
    },
    {
     "name": "stdout",
     "output_type": "stream",
     "text": [
      "HAHA2\n",
      "HAHA2\n",
      "HAHA2\n"
     ]
    },
    {
     "name": "stderr",
     "output_type": "stream",
     "text": [
      "\u001b[32midentifying most representative animals ... 44%|███▌    |  ETA: 0:00:04\u001b[39m"
     ]
    },
    {
     "name": "stdout",
     "output_type": "stream",
     "text": [
      "HAHA2\n",
      "HAHA2\n",
      "HAHA2\n"
     ]
    },
    {
     "name": "stderr",
     "output_type": "stream",
     "text": [
      "\u001b[32midentifying most representative animals ... 50%|████    |  ETA: 0:00:03\u001b[39m"
     ]
    },
    {
     "name": "stdout",
     "output_type": "stream",
     "text": [
      "HAHA2\n",
      "HAHA2\n",
      "HAHA2\n"
     ]
    },
    {
     "name": "stderr",
     "output_type": "stream",
     "text": [
      "\u001b[32midentifying most representative animals ... 56%|████▌   |  ETA: 0:00:03\u001b[39m"
     ]
    },
    {
     "name": "stdout",
     "output_type": "stream",
     "text": [
      "HAHA2\n",
      "HAHA2\n",
      "HAHA2\n",
      "HAHA2\n"
     ]
    },
    {
     "name": "stderr",
     "output_type": "stream",
     "text": [
      "\u001b[32midentifying most representative animals ... 64%|█████▏  |  ETA: 0:00:02\u001b[39m"
     ]
    },
    {
     "name": "stdout",
     "output_type": "stream",
     "text": [
      "HAHA2\n",
      "HAHA2\n",
      "HAHA2\n",
      "HAHA2\n"
     ]
    },
    {
     "name": "stderr",
     "output_type": "stream",
     "text": [
      "\u001b[32midentifying most representative animals ... 72%|█████▊  |  ETA: 0:00:01\u001b[39m"
     ]
    },
    {
     "name": "stdout",
     "output_type": "stream",
     "text": [
      "HAHA2\n",
      "HAHA2\n",
      "HAHA2\n",
      "HAHA2\n"
     ]
    },
    {
     "name": "stderr",
     "output_type": "stream",
     "text": [
      "\u001b[32midentifying most representative animals ... 80%|██████▍ |  ETA: 0:00:01\u001b[39m"
     ]
    },
    {
     "name": "stdout",
     "output_type": "stream",
     "text": [
      "HAHA2\n",
      "HAHA2\n",
      "HAHA2\n",
      "HAHA2\n",
      "HAHA2\n"
     ]
    },
    {
     "name": "stderr",
     "output_type": "stream",
     "text": [
      "\u001b[32midentifying most representative animals ... 90%|███████▎|  ETA: 0:00:00\u001b[39m"
     ]
    },
    {
     "name": "stdout",
     "output_type": "stream",
     "text": [
      "HAHA2\n",
      "HAHA2\n",
      "HAHA2\n",
      "HAHA2\n",
      "HAHA2\n"
     ]
    },
    {
     "name": "stderr",
     "output_type": "stream",
     "text": [
      "\u001b[32midentifying most representative animals ...100%|████████| Time: 0:00:04\u001b[39m\n"
     ]
    },
    {
     "name": "stdout",
     "output_type": "stream",
     "text": [
      "\n",
      "0.9976476738107685 of the unique haplotypes in the population is covered.\n",
      "0.9993747137346122 of the genome in the population is covered.\n",
      "\n",
      "IDs for identified animals were saved in identified_animals.txt.\n",
      "\n",
      "---------------------DONE-------------------------\n"
     ]
    }
   ],
   "source": [
    "LPChoose(\"smalldata.txt\",100,0.01,weights_for_haplotypes = \"equal\")"
   ]
  },
  {
   "cell_type": "code",
   "execution_count": 21,
   "metadata": {},
   "outputs": [
    {
     "data": {
      "image/svg+xml": [
       "<?xml version=\"1.0\" encoding=\"utf-8\"?>\n",
       "<svg xmlns=\"http://www.w3.org/2000/svg\" xmlns:xlink=\"http://www.w3.org/1999/xlink\" width=\"500\" height=\"500\" viewBox=\"0 0 2000 2000\">\n",
       "<defs>\n",
       "  <clipPath id=\"clip450\">\n",
       "    <rect x=\"0\" y=\"0\" width=\"2000\" height=\"2000\"/>\n",
       "  </clipPath>\n",
       "</defs>\n",
       "<path clip-path=\"url(#clip450)\" d=\"\n",
       "M0 2000 L2000 2000 L2000 0 L0 0  Z\n",
       "  \" fill=\"#ffffff\" fill-rule=\"evenodd\" fill-opacity=\"1\"/>\n",
       "<defs>\n",
       "  <clipPath id=\"clip451\">\n",
       "    <rect x=\"400\" y=\"200\" width=\"1401\" height=\"1401\"/>\n",
       "  </clipPath>\n",
       "</defs>\n",
       "<path clip-path=\"url(#clip450)\" d=\"\n",
       "M240.218 1771.66 L1952.76 1771.66 L1952.76 153.712 L240.218 153.712  Z\n",
       "  \" fill=\"#ffffff\" fill-rule=\"evenodd\" fill-opacity=\"1\"/>\n",
       "<defs>\n",
       "  <clipPath id=\"clip452\">\n",
       "    <rect x=\"240\" y=\"153\" width=\"1714\" height=\"1619\"/>\n",
       "  </clipPath>\n",
       "</defs>\n",
       "<polyline clip-path=\"url(#clip452)\" style=\"stroke:#000000; stroke-width:2; stroke-opacity:0.1; fill:none\" points=\"\n",
       "  240.218,1771.66 240.218,153.712 \n",
       "  \"/>\n",
       "<polyline clip-path=\"url(#clip452)\" style=\"stroke:#000000; stroke-width:2; stroke-opacity:0.1; fill:none\" points=\"\n",
       "  325.845,1771.66 325.845,153.712 \n",
       "  \"/>\n",
       "<polyline clip-path=\"url(#clip452)\" style=\"stroke:#000000; stroke-width:2; stroke-opacity:0.1; fill:none\" points=\"\n",
       "  411.472,1771.66 411.472,153.712 \n",
       "  \"/>\n",
       "<polyline clip-path=\"url(#clip452)\" style=\"stroke:#000000; stroke-width:2; stroke-opacity:0.1; fill:none\" points=\"\n",
       "  497.099,1771.66 497.099,153.712 \n",
       "  \"/>\n",
       "<polyline clip-path=\"url(#clip452)\" style=\"stroke:#000000; stroke-width:2; stroke-opacity:0.1; fill:none\" points=\"\n",
       "  582.726,1771.66 582.726,153.712 \n",
       "  \"/>\n",
       "<polyline clip-path=\"url(#clip452)\" style=\"stroke:#000000; stroke-width:2; stroke-opacity:0.1; fill:none\" points=\"\n",
       "  668.352,1771.66 668.352,153.712 \n",
       "  \"/>\n",
       "<polyline clip-path=\"url(#clip452)\" style=\"stroke:#000000; stroke-width:2; stroke-opacity:0.1; fill:none\" points=\"\n",
       "  753.979,1771.66 753.979,153.712 \n",
       "  \"/>\n",
       "<polyline clip-path=\"url(#clip452)\" style=\"stroke:#000000; stroke-width:2; stroke-opacity:0.1; fill:none\" points=\"\n",
       "  839.606,1771.66 839.606,153.712 \n",
       "  \"/>\n",
       "<polyline clip-path=\"url(#clip452)\" style=\"stroke:#000000; stroke-width:2; stroke-opacity:0.1; fill:none\" points=\"\n",
       "  925.233,1771.66 925.233,153.712 \n",
       "  \"/>\n",
       "<polyline clip-path=\"url(#clip452)\" style=\"stroke:#000000; stroke-width:2; stroke-opacity:0.1; fill:none\" points=\"\n",
       "  1010.86,1771.66 1010.86,153.712 \n",
       "  \"/>\n",
       "<polyline clip-path=\"url(#clip452)\" style=\"stroke:#000000; stroke-width:2; stroke-opacity:0.1; fill:none\" points=\"\n",
       "  1096.49,1771.66 1096.49,153.712 \n",
       "  \"/>\n",
       "<polyline clip-path=\"url(#clip452)\" style=\"stroke:#000000; stroke-width:2; stroke-opacity:0.1; fill:none\" points=\"\n",
       "  1182.11,1771.66 1182.11,153.712 \n",
       "  \"/>\n",
       "<polyline clip-path=\"url(#clip452)\" style=\"stroke:#000000; stroke-width:2; stroke-opacity:0.1; fill:none\" points=\"\n",
       "  1267.74,1771.66 1267.74,153.712 \n",
       "  \"/>\n",
       "<polyline clip-path=\"url(#clip452)\" style=\"stroke:#000000; stroke-width:2; stroke-opacity:0.1; fill:none\" points=\"\n",
       "  1353.37,1771.66 1353.37,153.712 \n",
       "  \"/>\n",
       "<polyline clip-path=\"url(#clip452)\" style=\"stroke:#000000; stroke-width:2; stroke-opacity:0.1; fill:none\" points=\"\n",
       "  1438.99,1771.66 1438.99,153.712 \n",
       "  \"/>\n",
       "<polyline clip-path=\"url(#clip452)\" style=\"stroke:#000000; stroke-width:2; stroke-opacity:0.1; fill:none\" points=\"\n",
       "  1524.62,1771.66 1524.62,153.712 \n",
       "  \"/>\n",
       "<polyline clip-path=\"url(#clip452)\" style=\"stroke:#000000; stroke-width:2; stroke-opacity:0.1; fill:none\" points=\"\n",
       "  1610.25,1771.66 1610.25,153.712 \n",
       "  \"/>\n",
       "<polyline clip-path=\"url(#clip452)\" style=\"stroke:#000000; stroke-width:2; stroke-opacity:0.1; fill:none\" points=\"\n",
       "  1695.88,1771.66 1695.88,153.712 \n",
       "  \"/>\n",
       "<polyline clip-path=\"url(#clip452)\" style=\"stroke:#000000; stroke-width:2; stroke-opacity:0.1; fill:none\" points=\"\n",
       "  1781.5,1771.66 1781.5,153.712 \n",
       "  \"/>\n",
       "<polyline clip-path=\"url(#clip452)\" style=\"stroke:#000000; stroke-width:2; stroke-opacity:0.1; fill:none\" points=\"\n",
       "  1867.13,1771.66 1867.13,153.712 \n",
       "  \"/>\n",
       "<polyline clip-path=\"url(#clip452)\" style=\"stroke:#000000; stroke-width:2; stroke-opacity:0.1; fill:none\" points=\"\n",
       "  1952.76,1771.66 1952.76,153.712 \n",
       "  \"/>\n",
       "<polyline clip-path=\"url(#clip452)\" style=\"stroke:#000000; stroke-width:2; stroke-opacity:0.1; fill:none\" points=\"\n",
       "  240.218,1771.66 1952.76,1771.66 \n",
       "  \"/>\n",
       "<polyline clip-path=\"url(#clip452)\" style=\"stroke:#000000; stroke-width:2; stroke-opacity:0.1; fill:none\" points=\"\n",
       "  240.218,1609.87 1952.76,1609.87 \n",
       "  \"/>\n",
       "<polyline clip-path=\"url(#clip452)\" style=\"stroke:#000000; stroke-width:2; stroke-opacity:0.1; fill:none\" points=\"\n",
       "  240.218,1448.07 1952.76,1448.07 \n",
       "  \"/>\n",
       "<polyline clip-path=\"url(#clip452)\" style=\"stroke:#000000; stroke-width:2; stroke-opacity:0.1; fill:none\" points=\"\n",
       "  240.218,1286.28 1952.76,1286.28 \n",
       "  \"/>\n",
       "<polyline clip-path=\"url(#clip452)\" style=\"stroke:#000000; stroke-width:2; stroke-opacity:0.1; fill:none\" points=\"\n",
       "  240.218,1124.48 1952.76,1124.48 \n",
       "  \"/>\n",
       "<polyline clip-path=\"url(#clip452)\" style=\"stroke:#000000; stroke-width:2; stroke-opacity:0.1; fill:none\" points=\"\n",
       "  240.218,962.686 1952.76,962.686 \n",
       "  \"/>\n",
       "<polyline clip-path=\"url(#clip452)\" style=\"stroke:#000000; stroke-width:2; stroke-opacity:0.1; fill:none\" points=\"\n",
       "  240.218,800.891 1952.76,800.891 \n",
       "  \"/>\n",
       "<polyline clip-path=\"url(#clip452)\" style=\"stroke:#000000; stroke-width:2; stroke-opacity:0.1; fill:none\" points=\"\n",
       "  240.218,639.096 1952.76,639.096 \n",
       "  \"/>\n",
       "<polyline clip-path=\"url(#clip452)\" style=\"stroke:#000000; stroke-width:2; stroke-opacity:0.1; fill:none\" points=\"\n",
       "  240.218,477.302 1952.76,477.302 \n",
       "  \"/>\n",
       "<polyline clip-path=\"url(#clip452)\" style=\"stroke:#000000; stroke-width:2; stroke-opacity:0.1; fill:none\" points=\"\n",
       "  240.218,315.507 1952.76,315.507 \n",
       "  \"/>\n",
       "<polyline clip-path=\"url(#clip452)\" style=\"stroke:#000000; stroke-width:2; stroke-opacity:0.1; fill:none\" points=\"\n",
       "  240.218,153.712 1952.76,153.712 \n",
       "  \"/>\n",
       "<polyline clip-path=\"url(#clip450)\" style=\"stroke:#000000; stroke-width:4; stroke-opacity:1; fill:none\" points=\"\n",
       "  240.218,1771.66 1952.76,1771.66 \n",
       "  \"/>\n",
       "<polyline clip-path=\"url(#clip450)\" style=\"stroke:#000000; stroke-width:4; stroke-opacity:1; fill:none\" points=\"\n",
       "  240.218,1771.66 240.218,153.712 \n",
       "  \"/>\n",
       "<polyline clip-path=\"url(#clip450)\" style=\"stroke:#000000; stroke-width:4; stroke-opacity:1; fill:none\" points=\"\n",
       "  240.218,1771.66 240.218,1752.24 \n",
       "  \"/>\n",
       "<polyline clip-path=\"url(#clip450)\" style=\"stroke:#000000; stroke-width:4; stroke-opacity:1; fill:none\" points=\"\n",
       "  325.845,1771.66 325.845,1752.24 \n",
       "  \"/>\n",
       "<polyline clip-path=\"url(#clip450)\" style=\"stroke:#000000; stroke-width:4; stroke-opacity:1; fill:none\" points=\"\n",
       "  411.472,1771.66 411.472,1752.24 \n",
       "  \"/>\n",
       "<polyline clip-path=\"url(#clip450)\" style=\"stroke:#000000; stroke-width:4; stroke-opacity:1; fill:none\" points=\"\n",
       "  497.099,1771.66 497.099,1752.24 \n",
       "  \"/>\n",
       "<polyline clip-path=\"url(#clip450)\" style=\"stroke:#000000; stroke-width:4; stroke-opacity:1; fill:none\" points=\"\n",
       "  582.726,1771.66 582.726,1752.24 \n",
       "  \"/>\n",
       "<polyline clip-path=\"url(#clip450)\" style=\"stroke:#000000; stroke-width:4; stroke-opacity:1; fill:none\" points=\"\n",
       "  668.352,1771.66 668.352,1752.24 \n",
       "  \"/>\n",
       "<polyline clip-path=\"url(#clip450)\" style=\"stroke:#000000; stroke-width:4; stroke-opacity:1; fill:none\" points=\"\n",
       "  753.979,1771.66 753.979,1752.24 \n",
       "  \"/>\n",
       "<polyline clip-path=\"url(#clip450)\" style=\"stroke:#000000; stroke-width:4; stroke-opacity:1; fill:none\" points=\"\n",
       "  839.606,1771.66 839.606,1752.24 \n",
       "  \"/>\n",
       "<polyline clip-path=\"url(#clip450)\" style=\"stroke:#000000; stroke-width:4; stroke-opacity:1; fill:none\" points=\"\n",
       "  925.233,1771.66 925.233,1752.24 \n",
       "  \"/>\n",
       "<polyline clip-path=\"url(#clip450)\" style=\"stroke:#000000; stroke-width:4; stroke-opacity:1; fill:none\" points=\"\n",
       "  1010.86,1771.66 1010.86,1752.24 \n",
       "  \"/>\n",
       "<polyline clip-path=\"url(#clip450)\" style=\"stroke:#000000; stroke-width:4; stroke-opacity:1; fill:none\" points=\"\n",
       "  1096.49,1771.66 1096.49,1752.24 \n",
       "  \"/>\n",
       "<polyline clip-path=\"url(#clip450)\" style=\"stroke:#000000; stroke-width:4; stroke-opacity:1; fill:none\" points=\"\n",
       "  1182.11,1771.66 1182.11,1752.24 \n",
       "  \"/>\n",
       "<polyline clip-path=\"url(#clip450)\" style=\"stroke:#000000; stroke-width:4; stroke-opacity:1; fill:none\" points=\"\n",
       "  1267.74,1771.66 1267.74,1752.24 \n",
       "  \"/>\n",
       "<polyline clip-path=\"url(#clip450)\" style=\"stroke:#000000; stroke-width:4; stroke-opacity:1; fill:none\" points=\"\n",
       "  1353.37,1771.66 1353.37,1752.24 \n",
       "  \"/>\n",
       "<polyline clip-path=\"url(#clip450)\" style=\"stroke:#000000; stroke-width:4; stroke-opacity:1; fill:none\" points=\"\n",
       "  1438.99,1771.66 1438.99,1752.24 \n",
       "  \"/>\n",
       "<polyline clip-path=\"url(#clip450)\" style=\"stroke:#000000; stroke-width:4; stroke-opacity:1; fill:none\" points=\"\n",
       "  1524.62,1771.66 1524.62,1752.24 \n",
       "  \"/>\n",
       "<polyline clip-path=\"url(#clip450)\" style=\"stroke:#000000; stroke-width:4; stroke-opacity:1; fill:none\" points=\"\n",
       "  1610.25,1771.66 1610.25,1752.24 \n",
       "  \"/>\n",
       "<polyline clip-path=\"url(#clip450)\" style=\"stroke:#000000; stroke-width:4; stroke-opacity:1; fill:none\" points=\"\n",
       "  1695.88,1771.66 1695.88,1752.24 \n",
       "  \"/>\n",
       "<polyline clip-path=\"url(#clip450)\" style=\"stroke:#000000; stroke-width:4; stroke-opacity:1; fill:none\" points=\"\n",
       "  1781.5,1771.66 1781.5,1752.24 \n",
       "  \"/>\n",
       "<polyline clip-path=\"url(#clip450)\" style=\"stroke:#000000; stroke-width:4; stroke-opacity:1; fill:none\" points=\"\n",
       "  1867.13,1771.66 1867.13,1752.24 \n",
       "  \"/>\n",
       "<polyline clip-path=\"url(#clip450)\" style=\"stroke:#000000; stroke-width:4; stroke-opacity:1; fill:none\" points=\"\n",
       "  1952.76,1771.66 1952.76,1752.24 \n",
       "  \"/>\n",
       "<polyline clip-path=\"url(#clip450)\" style=\"stroke:#000000; stroke-width:4; stroke-opacity:1; fill:none\" points=\"\n",
       "  240.218,1771.66 260.768,1771.66 \n",
       "  \"/>\n",
       "<polyline clip-path=\"url(#clip450)\" style=\"stroke:#000000; stroke-width:4; stroke-opacity:1; fill:none\" points=\"\n",
       "  240.218,1609.87 260.768,1609.87 \n",
       "  \"/>\n",
       "<polyline clip-path=\"url(#clip450)\" style=\"stroke:#000000; stroke-width:4; stroke-opacity:1; fill:none\" points=\"\n",
       "  240.218,1448.07 260.768,1448.07 \n",
       "  \"/>\n",
       "<polyline clip-path=\"url(#clip450)\" style=\"stroke:#000000; stroke-width:4; stroke-opacity:1; fill:none\" points=\"\n",
       "  240.218,1286.28 260.768,1286.28 \n",
       "  \"/>\n",
       "<polyline clip-path=\"url(#clip450)\" style=\"stroke:#000000; stroke-width:4; stroke-opacity:1; fill:none\" points=\"\n",
       "  240.218,1124.48 260.768,1124.48 \n",
       "  \"/>\n",
       "<polyline clip-path=\"url(#clip450)\" style=\"stroke:#000000; stroke-width:4; stroke-opacity:1; fill:none\" points=\"\n",
       "  240.218,962.686 260.768,962.686 \n",
       "  \"/>\n",
       "<polyline clip-path=\"url(#clip450)\" style=\"stroke:#000000; stroke-width:4; stroke-opacity:1; fill:none\" points=\"\n",
       "  240.218,800.891 260.768,800.891 \n",
       "  \"/>\n",
       "<polyline clip-path=\"url(#clip450)\" style=\"stroke:#000000; stroke-width:4; stroke-opacity:1; fill:none\" points=\"\n",
       "  240.218,639.096 260.768,639.096 \n",
       "  \"/>\n",
       "<polyline clip-path=\"url(#clip450)\" style=\"stroke:#000000; stroke-width:4; stroke-opacity:1; fill:none\" points=\"\n",
       "  240.218,477.302 260.768,477.302 \n",
       "  \"/>\n",
       "<polyline clip-path=\"url(#clip450)\" style=\"stroke:#000000; stroke-width:4; stroke-opacity:1; fill:none\" points=\"\n",
       "  240.218,315.507 260.768,315.507 \n",
       "  \"/>\n",
       "<polyline clip-path=\"url(#clip450)\" style=\"stroke:#000000; stroke-width:4; stroke-opacity:1; fill:none\" points=\"\n",
       "  240.218,153.712 260.768,153.712 \n",
       "  \"/>\n",
       "<path clip-path=\"url(#clip450)\" d=\"M 0 0 M240.218 1794.15 Q235.704 1794.15 233.418 1798.6 Q231.161 1803.03 231.161 1811.94 Q231.161 1820.83 233.418 1825.28 Q235.704 1829.71 240.218 1829.71 Q244.761 1829.71 247.018 1825.28 Q249.304 1820.83 249.304 1811.94 Q249.304 1803.03 247.018 1798.6 Q244.761 1794.15 240.218 1794.15 M240.218 1789.52 Q247.481 1789.52 251.3 1795.28 Q255.148 1801.01 255.148 1811.94 Q255.148 1822.85 251.3 1828.61 Q247.481 1834.34 240.218 1834.34 Q232.955 1834.34 229.107 1828.61 Q225.288 1822.85 225.288 1811.94 Q225.288 1801.01 229.107 1795.28 Q232.955 1789.52 240.218 1789.52 Z\" fill=\"#000000\" fill-rule=\"evenodd\" fill-opacity=\"1\" /><path clip-path=\"url(#clip450)\" d=\"M 0 0 M313.692 1790.3 L336.638 1790.3 L336.638 1795.22 L319.045 1795.22 L319.045 1805.81 Q320.318 1805.37 321.591 1805.17 Q322.865 1804.94 324.138 1804.94 Q331.371 1804.94 335.596 1808.91 Q339.821 1812.87 339.821 1819.64 Q339.821 1826.61 335.48 1830.49 Q331.14 1834.34 323.241 1834.34 Q320.521 1834.34 317.685 1833.88 Q314.879 1833.41 311.869 1832.49 L311.869 1826.61 Q314.473 1828.03 317.251 1828.73 Q320.029 1829.42 323.125 1829.42 Q328.131 1829.42 331.053 1826.79 Q333.976 1824.15 333.976 1819.64 Q333.976 1815.13 331.053 1812.49 Q328.131 1809.86 323.125 1809.86 Q320.781 1809.86 318.438 1810.38 Q316.123 1810.9 313.692 1812 L313.692 1790.3 Z\" fill=\"#000000\" fill-rule=\"evenodd\" fill-opacity=\"1\" /><path clip-path=\"url(#clip450)\" d=\"M 0 0 M382.566 1828.58 L392.114 1828.58 L392.114 1795.62 L381.727 1797.71 L381.727 1792.38 L392.056 1790.3 L397.901 1790.3 L397.901 1828.58 L407.45 1828.58 L407.45 1833.5 L382.566 1833.5 L382.566 1828.58 Z\" fill=\"#000000\" fill-rule=\"evenodd\" fill-opacity=\"1\" /><path clip-path=\"url(#clip450)\" d=\"M 0 0 M426.287 1794.15 Q421.773 1794.15 419.487 1798.6 Q417.23 1803.03 417.23 1811.94 Q417.23 1820.83 419.487 1825.28 Q421.773 1829.71 426.287 1829.71 Q430.829 1829.71 433.086 1825.28 Q435.372 1820.83 435.372 1811.94 Q435.372 1803.03 433.086 1798.6 Q430.829 1794.15 426.287 1794.15 M426.287 1789.52 Q433.549 1789.52 437.369 1795.28 Q441.217 1801.01 441.217 1811.94 Q441.217 1822.85 437.369 1828.61 Q433.549 1834.34 426.287 1834.34 Q419.024 1834.34 415.175 1828.61 Q411.356 1822.85 411.356 1811.94 Q411.356 1801.01 415.175 1795.28 Q419.024 1789.52 426.287 1789.52 Z\" fill=\"#000000\" fill-rule=\"evenodd\" fill-opacity=\"1\" /><path clip-path=\"url(#clip450)\" d=\"M 0 0 M468.815 1828.58 L478.363 1828.58 L478.363 1795.62 L467.976 1797.71 L467.976 1792.38 L478.305 1790.3 L484.15 1790.3 L484.15 1828.58 L493.699 1828.58 L493.699 1833.5 L468.815 1833.5 L468.815 1828.58 Z\" fill=\"#000000\" fill-rule=\"evenodd\" fill-opacity=\"1\" /><path clip-path=\"url(#clip450)\" d=\"M 0 0 M500.093 1790.3 L523.039 1790.3 L523.039 1795.22 L505.446 1795.22 L505.446 1805.81 Q506.72 1805.37 507.993 1805.17 Q509.266 1804.94 510.539 1804.94 Q517.773 1804.94 521.997 1808.91 Q526.222 1812.87 526.222 1819.64 Q526.222 1826.61 521.882 1830.49 Q517.541 1834.34 509.642 1834.34 Q506.922 1834.34 504.086 1833.88 Q501.28 1833.41 498.271 1832.49 L498.271 1826.61 Q500.875 1828.03 503.652 1828.73 Q506.43 1829.42 509.526 1829.42 Q514.532 1829.42 517.454 1826.79 Q520.377 1824.15 520.377 1819.64 Q520.377 1815.13 517.454 1812.49 Q514.532 1809.86 509.526 1809.86 Q507.183 1809.86 504.839 1810.38 Q502.524 1810.9 500.093 1812 L500.093 1790.3 Z\" fill=\"#000000\" fill-rule=\"evenodd\" fill-opacity=\"1\" /><path clip-path=\"url(#clip450)\" d=\"M 0 0 M559.158 1828.58 L579.557 1828.58 L579.557 1833.5 L552.127 1833.5 L552.127 1828.58 Q555.454 1825.14 561.183 1819.35 Q566.942 1813.53 568.417 1811.86 Q571.224 1808.7 572.323 1806.53 Q573.452 1804.33 573.452 1802.22 Q573.452 1798.78 571.021 1796.61 Q568.62 1794.44 564.742 1794.44 Q561.994 1794.44 558.927 1795.39 Q555.888 1796.35 552.416 1798.29 L552.416 1792.38 Q555.946 1790.97 559.013 1790.24 Q562.08 1789.52 564.627 1789.52 Q571.34 1789.52 575.333 1792.88 Q579.326 1796.23 579.326 1801.84 Q579.326 1804.51 578.313 1806.91 Q577.329 1809.28 574.696 1812.52 Q573.973 1813.36 570.095 1817.38 Q566.218 1821.38 559.158 1828.58 Z\" fill=\"#000000\" fill-rule=\"evenodd\" fill-opacity=\"1\" /><path clip-path=\"url(#clip450)\" d=\"M 0 0 M598.394 1794.15 Q593.88 1794.15 591.594 1798.6 Q589.337 1803.03 589.337 1811.94 Q589.337 1820.83 591.594 1825.28 Q593.88 1829.71 598.394 1829.71 Q602.937 1829.71 605.194 1825.28 Q607.479 1820.83 607.479 1811.94 Q607.479 1803.03 605.194 1798.6 Q602.937 1794.15 598.394 1794.15 M598.394 1789.52 Q605.657 1789.52 609.476 1795.28 Q613.324 1801.01 613.324 1811.94 Q613.324 1822.85 609.476 1828.61 Q605.657 1834.34 598.394 1834.34 Q591.131 1834.34 587.283 1828.61 Q583.463 1822.85 583.463 1811.94 Q583.463 1801.01 587.283 1795.28 Q591.131 1789.52 598.394 1789.52 Z\" fill=\"#000000\" fill-rule=\"evenodd\" fill-opacity=\"1\" /><path clip-path=\"url(#clip450)\" d=\"M 0 0 M645.407 1828.58 L665.806 1828.58 L665.806 1833.5 L638.376 1833.5 L638.376 1828.58 Q641.703 1825.14 647.432 1819.35 Q653.191 1813.53 654.666 1811.86 Q657.473 1808.7 658.572 1806.53 Q659.701 1804.33 659.701 1802.22 Q659.701 1798.78 657.27 1796.61 Q654.869 1794.44 650.991 1794.44 Q648.243 1794.44 645.176 1795.39 Q642.137 1796.35 638.665 1798.29 L638.665 1792.38 Q642.195 1790.97 645.262 1790.24 Q648.329 1789.52 650.876 1789.52 Q657.589 1789.52 661.582 1792.88 Q665.575 1796.23 665.575 1801.84 Q665.575 1804.51 664.562 1806.91 Q663.578 1809.28 660.945 1812.52 Q660.222 1813.36 656.344 1817.38 Q652.467 1821.38 645.407 1828.58 Z\" fill=\"#000000\" fill-rule=\"evenodd\" fill-opacity=\"1\" /><path clip-path=\"url(#clip450)\" d=\"M 0 0 M672.201 1790.3 L695.146 1790.3 L695.146 1795.22 L677.554 1795.22 L677.554 1805.81 Q678.827 1805.37 680.1 1805.17 Q681.373 1804.94 682.646 1804.94 Q689.88 1804.94 694.105 1808.91 Q698.329 1812.87 698.329 1819.64 Q698.329 1826.61 693.989 1830.49 Q689.649 1834.34 681.749 1834.34 Q679.029 1834.34 676.194 1833.88 Q673.387 1833.41 670.378 1832.49 L670.378 1826.61 Q672.982 1828.03 675.76 1828.73 Q678.538 1829.42 681.634 1829.42 Q686.639 1829.42 689.562 1826.79 Q692.484 1824.15 692.484 1819.64 Q692.484 1815.13 689.562 1812.49 Q686.639 1809.86 681.634 1809.86 Q679.29 1809.86 676.946 1810.38 Q674.631 1810.9 672.201 1812 L672.201 1790.3 Z\" fill=\"#000000\" fill-rule=\"evenodd\" fill-opacity=\"1\" /><path clip-path=\"url(#clip450)\" d=\"M 0 0 M742.405 1810.21 Q746.601 1811.1 748.945 1813.94 Q751.317 1816.78 751.317 1820.94 Q751.317 1827.34 746.919 1830.84 Q742.521 1834.34 734.419 1834.34 Q731.699 1834.34 728.806 1833.79 Q725.941 1833.27 722.874 1832.2 L722.874 1826.56 Q725.305 1827.97 728.198 1828.7 Q731.092 1829.42 734.246 1829.42 Q739.743 1829.42 742.608 1827.25 Q745.501 1825.08 745.501 1820.94 Q745.501 1817.12 742.81 1814.98 Q740.148 1812.81 735.374 1812.81 L730.339 1812.81 L730.339 1808.01 L735.606 1808.01 Q739.917 1808.01 742.203 1806.3 Q744.489 1804.56 744.489 1801.32 Q744.489 1798 742.116 1796.23 Q739.772 1794.44 735.374 1794.44 Q732.973 1794.44 730.224 1794.96 Q727.475 1795.48 724.176 1796.58 L724.176 1791.37 Q727.504 1790.44 730.397 1789.98 Q733.32 1789.52 735.895 1789.52 Q742.55 1789.52 746.427 1792.56 Q750.305 1795.57 750.305 1800.72 Q750.305 1804.3 748.25 1806.79 Q746.196 1809.25 742.405 1810.21 Z\" fill=\"#000000\" fill-rule=\"evenodd\" fill-opacity=\"1\" /><path clip-path=\"url(#clip450)\" d=\"M 0 0 M770.154 1794.15 Q765.64 1794.15 763.354 1798.6 Q761.097 1803.03 761.097 1811.94 Q761.097 1820.83 763.354 1825.28 Q765.64 1829.71 770.154 1829.71 Q774.697 1829.71 776.954 1825.28 Q779.24 1820.83 779.24 1811.94 Q779.24 1803.03 776.954 1798.6 Q774.697 1794.15 770.154 1794.15 M770.154 1789.52 Q777.417 1789.52 781.236 1795.28 Q785.085 1801.01 785.085 1811.94 Q785.085 1822.85 781.236 1828.61 Q777.417 1834.34 770.154 1834.34 Q762.891 1834.34 759.043 1828.61 Q755.224 1822.85 755.224 1811.94 Q755.224 1801.01 759.043 1795.28 Q762.891 1789.52 770.154 1789.52 Z\" fill=\"#000000\" fill-rule=\"evenodd\" fill-opacity=\"1\" /><path clip-path=\"url(#clip450)\" d=\"M 0 0 M828.654 1810.21 Q832.85 1811.1 835.194 1813.94 Q837.566 1816.78 837.566 1820.94 Q837.566 1827.34 833.168 1830.84 Q828.77 1834.34 820.668 1834.34 Q817.948 1834.34 815.055 1833.79 Q812.19 1833.27 809.123 1832.2 L809.123 1826.56 Q811.554 1827.97 814.447 1828.7 Q817.341 1829.42 820.495 1829.42 Q825.992 1829.42 828.857 1827.25 Q831.75 1825.08 831.75 1820.94 Q831.75 1817.12 829.059 1814.98 Q826.397 1812.81 821.623 1812.81 L816.588 1812.81 L816.588 1808.01 L821.855 1808.01 Q826.166 1808.01 828.452 1806.3 Q830.738 1804.56 830.738 1801.32 Q830.738 1798 828.365 1796.23 Q826.021 1794.44 821.623 1794.44 Q819.222 1794.44 816.473 1794.96 Q813.724 1795.48 810.425 1796.58 L810.425 1791.37 Q813.753 1790.44 816.646 1789.98 Q819.569 1789.52 822.144 1789.52 Q828.799 1789.52 832.676 1792.56 Q836.554 1795.57 836.554 1800.72 Q836.554 1804.3 834.499 1806.79 Q832.445 1809.25 828.654 1810.21 Z\" fill=\"#000000\" fill-rule=\"evenodd\" fill-opacity=\"1\" /><path clip-path=\"url(#clip450)\" d=\"M 0 0 M843.961 1790.3 L866.906 1790.3 L866.906 1795.22 L849.314 1795.22 L849.314 1805.81 Q850.587 1805.37 851.86 1805.17 Q853.133 1804.94 854.407 1804.94 Q861.64 1804.94 865.865 1808.91 Q870.089 1812.87 870.089 1819.64 Q870.089 1826.61 865.749 1830.49 Q861.409 1834.34 853.51 1834.34 Q850.79 1834.34 847.954 1833.88 Q845.147 1833.41 842.138 1832.49 L842.138 1826.61 Q844.742 1828.03 847.52 1828.73 Q850.298 1829.42 853.394 1829.42 Q858.4 1829.42 861.322 1826.79 Q864.244 1824.15 864.244 1819.64 Q864.244 1815.13 861.322 1812.49 Q858.4 1809.86 853.394 1809.86 Q851.05 1809.86 848.706 1810.38 Q846.392 1810.9 843.961 1812 L843.961 1790.3 Z\" fill=\"#000000\" fill-rule=\"evenodd\" fill-opacity=\"1\" /><path clip-path=\"url(#clip450)\" d=\"M 0 0 M912.111 1795.39 L897.354 1818.45 L912.111 1818.45 L912.111 1795.39 M910.578 1790.3 L917.927 1790.3 L917.927 1818.45 L924.09 1818.45 L924.09 1823.31 L917.927 1823.31 L917.927 1833.5 L912.111 1833.5 L912.111 1823.31 L892.609 1823.31 L892.609 1817.67 L910.578 1790.3 Z\" fill=\"#000000\" fill-rule=\"evenodd\" fill-opacity=\"1\" /><path clip-path=\"url(#clip450)\" d=\"M 0 0 M942.927 1794.15 Q938.413 1794.15 936.127 1798.6 Q933.87 1803.03 933.87 1811.94 Q933.87 1820.83 936.127 1825.28 Q938.413 1829.71 942.927 1829.71 Q947.47 1829.71 949.727 1825.28 Q952.013 1820.83 952.013 1811.94 Q952.013 1803.03 949.727 1798.6 Q947.47 1794.15 942.927 1794.15 M942.927 1789.52 Q950.19 1789.52 954.009 1795.28 Q957.857 1801.01 957.857 1811.94 Q957.857 1822.85 954.009 1828.61 Q950.19 1834.34 942.927 1834.34 Q935.664 1834.34 931.816 1828.61 Q927.996 1822.85 927.996 1811.94 Q927.996 1801.01 931.816 1795.28 Q935.664 1789.52 942.927 1789.52 Z\" fill=\"#000000\" fill-rule=\"evenodd\" fill-opacity=\"1\" /><path clip-path=\"url(#clip450)\" d=\"M 0 0 M998.36 1795.39 L983.603 1818.45 L998.36 1818.45 L998.36 1795.39 M996.827 1790.3 L1004.18 1790.3 L1004.18 1818.45 L1010.34 1818.45 L1010.34 1823.31 L1004.18 1823.31 L1004.18 1833.5 L998.36 1833.5 L998.36 1823.31 L978.858 1823.31 L978.858 1817.67 L996.827 1790.3 Z\" fill=\"#000000\" fill-rule=\"evenodd\" fill-opacity=\"1\" /><path clip-path=\"url(#clip450)\" d=\"M 0 0 M1016.73 1790.3 L1039.68 1790.3 L1039.68 1795.22 L1022.09 1795.22 L1022.09 1805.81 Q1023.36 1805.37 1024.63 1805.17 Q1025.91 1804.94 1027.18 1804.94 Q1034.41 1804.94 1038.64 1808.91 Q1042.86 1812.87 1042.86 1819.64 Q1042.86 1826.61 1038.52 1830.49 Q1034.18 1834.34 1026.28 1834.34 Q1023.56 1834.34 1020.73 1833.88 Q1017.92 1833.41 1014.91 1832.49 L1014.91 1826.61 Q1017.52 1828.03 1020.29 1828.73 Q1023.07 1829.42 1026.17 1829.42 Q1031.17 1829.42 1034.09 1826.79 Q1037.02 1824.15 1037.02 1819.64 Q1037.02 1815.13 1034.09 1812.49 Q1031.17 1809.86 1026.17 1809.86 Q1023.82 1809.86 1021.48 1810.38 Q1019.16 1810.9 1016.73 1812 L1016.73 1790.3 Z\" fill=\"#000000\" fill-rule=\"evenodd\" fill-opacity=\"1\" /><path clip-path=\"url(#clip450)\" d=\"M 0 0 M1067.45 1790.3 L1090.4 1790.3 L1090.4 1795.22 L1072.8 1795.22 L1072.8 1805.81 Q1074.08 1805.37 1075.35 1805.17 Q1076.62 1804.94 1077.9 1804.94 Q1085.13 1804.94 1089.35 1808.91 Q1093.58 1812.87 1093.58 1819.64 Q1093.58 1826.61 1089.24 1830.49 Q1084.9 1834.34 1077 1834.34 Q1074.28 1834.34 1071.44 1833.88 Q1068.64 1833.41 1065.63 1832.49 L1065.63 1826.61 Q1068.23 1828.03 1071.01 1828.73 Q1073.79 1829.42 1076.88 1829.42 Q1081.89 1829.42 1084.81 1826.79 Q1087.73 1824.15 1087.73 1819.64 Q1087.73 1815.13 1084.81 1812.49 Q1081.89 1809.86 1076.88 1809.86 Q1074.54 1809.86 1072.2 1810.38 Q1069.88 1810.9 1067.45 1812 L1067.45 1790.3 Z\" fill=\"#000000\" fill-rule=\"evenodd\" fill-opacity=\"1\" /><path clip-path=\"url(#clip450)\" d=\"M 0 0 M1112.42 1794.15 Q1107.9 1794.15 1105.62 1798.6 Q1103.36 1803.03 1103.36 1811.94 Q1103.36 1820.83 1105.62 1825.28 Q1107.9 1829.71 1112.42 1829.71 Q1116.96 1829.71 1119.22 1825.28 Q1121.5 1820.83 1121.5 1811.94 Q1121.5 1803.03 1119.22 1798.6 Q1116.96 1794.15 1112.42 1794.15 M1112.42 1789.52 Q1119.68 1789.52 1123.5 1795.28 Q1127.35 1801.01 1127.35 1811.94 Q1127.35 1822.85 1123.5 1828.61 Q1119.68 1834.34 1112.42 1834.34 Q1105.15 1834.34 1101.3 1828.61 Q1097.49 1822.85 1097.49 1811.94 Q1097.49 1801.01 1101.3 1795.28 Q1105.15 1789.52 1112.42 1789.52 Z\" fill=\"#000000\" fill-rule=\"evenodd\" fill-opacity=\"1\" /><path clip-path=\"url(#clip450)\" d=\"M 0 0 M1153.7 1790.3 L1176.65 1790.3 L1176.65 1795.22 L1159.05 1795.22 L1159.05 1805.81 Q1160.33 1805.37 1161.6 1805.17 Q1162.87 1804.94 1164.15 1804.94 Q1171.38 1804.94 1175.6 1808.91 Q1179.83 1812.87 1179.83 1819.64 Q1179.83 1826.61 1175.49 1830.49 Q1171.15 1834.34 1163.25 1834.34 Q1160.53 1834.34 1157.69 1833.88 Q1154.89 1833.41 1151.88 1832.49 L1151.88 1826.61 Q1154.48 1828.03 1157.26 1828.73 Q1160.04 1829.42 1163.13 1829.42 Q1168.14 1829.42 1171.06 1826.79 Q1173.98 1824.15 1173.98 1819.64 Q1173.98 1815.13 1171.06 1812.49 Q1168.14 1809.86 1163.13 1809.86 Q1160.79 1809.86 1158.44 1810.38 Q1156.13 1810.9 1153.7 1812 L1153.7 1790.3 Z\" fill=\"#000000\" fill-rule=\"evenodd\" fill-opacity=\"1\" /><path clip-path=\"url(#clip450)\" d=\"M 0 0 M1186.22 1790.3 L1209.17 1790.3 L1209.17 1795.22 L1191.58 1795.22 L1191.58 1805.81 Q1192.85 1805.37 1194.12 1805.17 Q1195.4 1804.94 1196.67 1804.94 Q1203.9 1804.94 1208.13 1808.91 Q1212.35 1812.87 1212.35 1819.64 Q1212.35 1826.61 1208.01 1830.49 Q1203.67 1834.34 1195.77 1834.34 Q1193.05 1834.34 1190.22 1833.88 Q1187.41 1833.41 1184.4 1832.49 L1184.4 1826.61 Q1187 1828.03 1189.78 1828.73 Q1192.56 1829.42 1195.66 1829.42 Q1200.66 1829.42 1203.58 1826.79 Q1206.51 1824.15 1206.51 1819.64 Q1206.51 1815.13 1203.58 1812.49 Q1200.66 1809.86 1195.66 1809.86 Q1193.31 1809.86 1190.97 1810.38 Q1188.65 1810.9 1186.22 1812 L1186.22 1790.3 Z\" fill=\"#000000\" fill-rule=\"evenodd\" fill-opacity=\"1\" /><path clip-path=\"url(#clip450)\" d=\"M 0 0 M1251.36 1809.57 Q1247.43 1809.57 1245.11 1812.26 Q1242.83 1814.95 1242.83 1819.64 Q1242.83 1824.3 1245.11 1827.02 Q1247.43 1829.71 1251.36 1829.71 Q1255.3 1829.71 1257.58 1827.02 Q1259.9 1824.3 1259.9 1819.64 Q1259.9 1814.95 1257.58 1812.26 Q1255.3 1809.57 1251.36 1809.57 M1262.97 1791.25 L1262.97 1796.58 Q1260.77 1795.54 1258.51 1794.99 Q1256.28 1794.44 1254.08 1794.44 Q1248.3 1794.44 1245.23 1798.34 Q1242.19 1802.25 1241.76 1810.15 Q1243.46 1807.63 1246.04 1806.3 Q1248.61 1804.94 1251.71 1804.94 Q1258.22 1804.94 1261.98 1808.91 Q1265.77 1812.84 1265.77 1819.64 Q1265.77 1826.3 1261.84 1830.32 Q1257.9 1834.34 1251.36 1834.34 Q1243.87 1834.34 1239.91 1828.61 Q1235.94 1822.85 1235.94 1811.94 Q1235.94 1801.7 1240.8 1795.62 Q1245.66 1789.52 1253.85 1789.52 Q1256.05 1789.52 1258.28 1789.95 Q1260.54 1790.39 1262.97 1791.25 Z\" fill=\"#000000\" fill-rule=\"evenodd\" fill-opacity=\"1\" /><path clip-path=\"url(#clip450)\" d=\"M 0 0 M1284.61 1794.15 Q1280.1 1794.15 1277.81 1798.6 Q1275.55 1803.03 1275.55 1811.94 Q1275.55 1820.83 1277.81 1825.28 Q1280.1 1829.71 1284.61 1829.71 Q1289.15 1829.71 1291.41 1825.28 Q1293.7 1820.83 1293.7 1811.94 Q1293.7 1803.03 1291.41 1798.6 Q1289.15 1794.15 1284.61 1794.15 M1284.61 1789.52 Q1291.87 1789.52 1295.69 1795.28 Q1299.54 1801.01 1299.54 1811.94 Q1299.54 1822.85 1295.69 1828.61 Q1291.87 1834.34 1284.61 1834.34 Q1277.35 1834.34 1273.5 1828.61 Q1269.68 1822.85 1269.68 1811.94 Q1269.68 1801.01 1273.5 1795.28 Q1277.35 1789.52 1284.61 1789.52 Z\" fill=\"#000000\" fill-rule=\"evenodd\" fill-opacity=\"1\" /><path clip-path=\"url(#clip450)\" d=\"M 0 0 M1337.61 1809.57 Q1333.68 1809.57 1331.36 1812.26 Q1329.08 1814.95 1329.08 1819.64 Q1329.08 1824.3 1331.36 1827.02 Q1333.68 1829.71 1337.61 1829.71 Q1341.55 1829.71 1343.83 1827.02 Q1346.15 1824.3 1346.15 1819.64 Q1346.15 1814.95 1343.83 1812.26 Q1341.55 1809.57 1337.61 1809.57 M1349.22 1791.25 L1349.22 1796.58 Q1347.02 1795.54 1344.76 1794.99 Q1342.53 1794.44 1340.33 1794.44 Q1334.55 1794.44 1331.48 1798.34 Q1328.44 1802.25 1328.01 1810.15 Q1329.71 1807.63 1332.29 1806.3 Q1334.86 1804.94 1337.96 1804.94 Q1344.47 1804.94 1348.23 1808.91 Q1352.02 1812.84 1352.02 1819.64 Q1352.02 1826.3 1348.09 1830.32 Q1344.15 1834.34 1337.61 1834.34 Q1330.12 1834.34 1326.15 1828.61 Q1322.19 1822.85 1322.19 1811.94 Q1322.19 1801.7 1327.05 1795.62 Q1331.91 1789.52 1340.1 1789.52 Q1342.3 1789.52 1344.53 1789.95 Q1346.78 1790.39 1349.22 1791.25 Z\" fill=\"#000000\" fill-rule=\"evenodd\" fill-opacity=\"1\" /><path clip-path=\"url(#clip450)\" d=\"M 0 0 M1358.42 1790.3 L1381.36 1790.3 L1381.36 1795.22 L1363.77 1795.22 L1363.77 1805.81 Q1365.04 1805.37 1366.32 1805.17 Q1367.59 1804.94 1368.86 1804.94 Q1376.1 1804.94 1380.32 1808.91 Q1384.55 1812.87 1384.55 1819.64 Q1384.55 1826.61 1380.2 1830.49 Q1375.86 1834.34 1367.97 1834.34 Q1365.25 1834.34 1362.41 1833.88 Q1359.6 1833.41 1356.59 1832.49 L1356.59 1826.61 Q1359.2 1828.03 1361.98 1828.73 Q1364.75 1829.42 1367.85 1829.42 Q1372.86 1829.42 1375.78 1826.79 Q1378.7 1824.15 1378.7 1819.64 Q1378.7 1815.13 1375.78 1812.49 Q1372.86 1809.86 1367.85 1809.86 Q1365.51 1809.86 1363.16 1810.38 Q1360.85 1810.9 1358.42 1812 L1358.42 1790.3 Z\" fill=\"#000000\" fill-rule=\"evenodd\" fill-opacity=\"1\" /><path clip-path=\"url(#clip450)\" d=\"M 0 0 M1408.22 1790.3 L1436 1790.3 L1436 1792.79 L1420.32 1833.5 L1414.21 1833.5 L1428.97 1795.22 L1408.22 1795.22 L1408.22 1790.3 Z\" fill=\"#000000\" fill-rule=\"evenodd\" fill-opacity=\"1\" /><path clip-path=\"url(#clip450)\" d=\"M 0 0 M1454.84 1794.15 Q1450.32 1794.15 1448.04 1798.6 Q1445.78 1803.03 1445.78 1811.94 Q1445.78 1820.83 1448.04 1825.28 Q1450.32 1829.71 1454.84 1829.71 Q1459.38 1829.71 1461.64 1825.28 Q1463.92 1820.83 1463.92 1811.94 Q1463.92 1803.03 1461.64 1798.6 Q1459.38 1794.15 1454.84 1794.15 M1454.84 1789.52 Q1462.1 1789.52 1465.92 1795.28 Q1469.77 1801.01 1469.77 1811.94 Q1469.77 1822.85 1465.92 1828.61 Q1462.1 1834.34 1454.84 1834.34 Q1447.57 1834.34 1443.73 1828.61 Q1439.91 1822.85 1439.91 1811.94 Q1439.91 1801.01 1443.73 1795.28 Q1447.57 1789.52 1454.84 1789.52 Z\" fill=\"#000000\" fill-rule=\"evenodd\" fill-opacity=\"1\" /><path clip-path=\"url(#clip450)\" d=\"M 0 0 M1494.47 1790.3 L1522.25 1790.3 L1522.25 1792.79 L1506.57 1833.5 L1500.46 1833.5 L1515.22 1795.22 L1494.47 1795.22 L1494.47 1790.3 Z\" fill=\"#000000\" fill-rule=\"evenodd\" fill-opacity=\"1\" /><path clip-path=\"url(#clip450)\" d=\"M 0 0 M1528.64 1790.3 L1551.59 1790.3 L1551.59 1795.22 L1534 1795.22 L1534 1805.81 Q1535.27 1805.37 1536.54 1805.17 Q1537.82 1804.94 1539.09 1804.94 Q1546.32 1804.94 1550.55 1808.91 Q1554.77 1812.87 1554.77 1819.64 Q1554.77 1826.61 1550.43 1830.49 Q1546.09 1834.34 1538.19 1834.34 Q1535.47 1834.34 1532.64 1833.88 Q1529.83 1833.41 1526.82 1832.49 L1526.82 1826.61 Q1529.42 1828.03 1532.2 1828.73 Q1534.98 1829.42 1538.08 1829.42 Q1543.08 1829.42 1546 1826.79 Q1548.93 1824.15 1548.93 1819.64 Q1548.93 1815.13 1546 1812.49 Q1543.08 1809.86 1538.08 1809.86 Q1535.73 1809.86 1533.39 1810.38 Q1531.07 1810.9 1528.64 1812 L1528.64 1790.3 Z\" fill=\"#000000\" fill-rule=\"evenodd\" fill-opacity=\"1\" /><path clip-path=\"url(#clip450)\" d=\"M 0 0 M1593.36 1812.98 Q1589.2 1812.98 1586.8 1815.21 Q1584.42 1817.44 1584.42 1821.35 Q1584.42 1825.25 1586.8 1827.48 Q1589.2 1829.71 1593.36 1829.71 Q1597.53 1829.71 1599.93 1827.48 Q1602.33 1825.22 1602.33 1821.35 Q1602.33 1817.44 1599.93 1815.21 Q1597.56 1812.98 1593.36 1812.98 M1587.52 1810.5 Q1583.76 1809.57 1581.65 1807 Q1579.56 1804.42 1579.56 1800.72 Q1579.56 1795.54 1583.24 1792.53 Q1586.94 1789.52 1593.36 1789.52 Q1599.82 1789.52 1603.49 1792.53 Q1607.17 1795.54 1607.17 1800.72 Q1607.17 1804.42 1605.05 1807 Q1602.97 1809.57 1599.24 1810.5 Q1603.46 1811.48 1605.81 1814.34 Q1608.18 1817.21 1608.18 1821.35 Q1608.18 1827.63 1604.33 1830.98 Q1600.51 1834.34 1593.36 1834.34 Q1586.22 1834.34 1582.37 1830.98 Q1578.55 1827.63 1578.55 1821.35 Q1578.55 1817.21 1580.92 1814.34 Q1583.3 1811.48 1587.52 1810.5 M1585.38 1801.27 Q1585.38 1804.62 1587.46 1806.5 Q1589.57 1808.38 1593.36 1808.38 Q1597.13 1808.38 1599.24 1806.5 Q1601.38 1804.62 1601.38 1801.27 Q1601.38 1797.91 1599.24 1796.03 Q1597.13 1794.15 1593.36 1794.15 Q1589.57 1794.15 1587.46 1796.03 Q1585.38 1797.91 1585.38 1801.27 Z\" fill=\"#000000\" fill-rule=\"evenodd\" fill-opacity=\"1\" /><path clip-path=\"url(#clip450)\" d=\"M 0 0 M1627.02 1794.15 Q1622.5 1794.15 1620.22 1798.6 Q1617.96 1803.03 1617.96 1811.94 Q1617.96 1820.83 1620.22 1825.28 Q1622.5 1829.71 1627.02 1829.71 Q1631.56 1829.71 1633.82 1825.28 Q1636.1 1820.83 1636.1 1811.94 Q1636.1 1803.03 1633.82 1798.6 Q1631.56 1794.15 1627.02 1794.15 M1627.02 1789.52 Q1634.28 1789.52 1638.1 1795.28 Q1641.95 1801.01 1641.95 1811.94 Q1641.95 1822.85 1638.1 1828.61 Q1634.28 1834.34 1627.02 1834.34 Q1619.75 1834.34 1615.91 1828.61 Q1612.09 1822.85 1612.09 1811.94 Q1612.09 1801.01 1615.91 1795.28 Q1619.75 1789.52 1627.02 1789.52 Z\" fill=\"#000000\" fill-rule=\"evenodd\" fill-opacity=\"1\" /><path clip-path=\"url(#clip450)\" d=\"M 0 0 M1679.61 1812.98 Q1675.45 1812.98 1673.05 1815.21 Q1670.67 1817.44 1670.67 1821.35 Q1670.67 1825.25 1673.05 1827.48 Q1675.45 1829.71 1679.61 1829.71 Q1683.78 1829.71 1686.18 1827.48 Q1688.58 1825.22 1688.58 1821.35 Q1688.58 1817.44 1686.18 1815.21 Q1683.81 1812.98 1679.61 1812.98 M1673.77 1810.5 Q1670.01 1809.57 1667.9 1807 Q1665.81 1804.42 1665.81 1800.72 Q1665.81 1795.54 1669.49 1792.53 Q1673.19 1789.52 1679.61 1789.52 Q1686.07 1789.52 1689.74 1792.53 Q1693.42 1795.54 1693.42 1800.72 Q1693.42 1804.42 1691.3 1807 Q1689.22 1809.57 1685.49 1810.5 Q1689.71 1811.48 1692.06 1814.34 Q1694.43 1817.21 1694.43 1821.35 Q1694.43 1827.63 1690.58 1830.98 Q1686.76 1834.34 1679.61 1834.34 Q1672.47 1834.34 1668.62 1830.98 Q1664.8 1827.63 1664.8 1821.35 Q1664.8 1817.21 1667.17 1814.34 Q1669.54 1811.48 1673.77 1810.5 M1671.63 1801.27 Q1671.63 1804.62 1673.71 1806.5 Q1675.82 1808.38 1679.61 1808.38 Q1683.38 1808.38 1685.49 1806.5 Q1687.63 1804.62 1687.63 1801.27 Q1687.63 1797.91 1685.49 1796.03 Q1683.38 1794.15 1679.61 1794.15 Q1675.82 1794.15 1673.71 1796.03 Q1671.63 1797.91 1671.63 1801.27 Z\" fill=\"#000000\" fill-rule=\"evenodd\" fill-opacity=\"1\" /><path clip-path=\"url(#clip450)\" d=\"M 0 0 M1700.82 1790.3 L1723.77 1790.3 L1723.77 1795.22 L1706.18 1795.22 L1706.18 1805.81 Q1707.45 1805.37 1708.72 1805.17 Q1710 1804.94 1711.27 1804.94 Q1718.5 1804.94 1722.73 1808.91 Q1726.95 1812.87 1726.95 1819.64 Q1726.95 1826.61 1722.61 1830.49 Q1718.27 1834.34 1710.37 1834.34 Q1707.65 1834.34 1704.82 1833.88 Q1702.01 1833.41 1699 1832.49 L1699 1826.61 Q1701.6 1828.03 1704.38 1828.73 Q1707.16 1829.42 1710.26 1829.42 Q1715.26 1829.42 1718.18 1826.79 Q1721.11 1824.15 1721.11 1819.64 Q1721.11 1815.13 1718.18 1812.49 Q1715.26 1809.86 1710.26 1809.86 Q1707.91 1809.86 1705.57 1810.38 Q1703.25 1810.9 1700.82 1812 L1700.82 1790.3 Z\" fill=\"#000000\" fill-rule=\"evenodd\" fill-opacity=\"1\" /><path clip-path=\"url(#clip450)\" d=\"M 0 0 M1752.49 1832.6 L1752.49 1827.28 Q1754.69 1828.32 1756.95 1828.87 Q1759.21 1829.42 1761.38 1829.42 Q1767.16 1829.42 1770.2 1825.54 Q1773.27 1821.64 1773.7 1813.71 Q1772.03 1816.2 1769.45 1817.53 Q1766.88 1818.86 1763.75 1818.86 Q1757.27 1818.86 1753.48 1814.95 Q1749.72 1811.02 1749.72 1804.22 Q1749.72 1797.56 1753.65 1793.54 Q1757.59 1789.52 1764.13 1789.52 Q1771.62 1789.52 1775.56 1795.28 Q1779.52 1801.01 1779.52 1811.94 Q1779.52 1822.16 1774.66 1828.26 Q1769.83 1834.34 1761.64 1834.34 Q1759.44 1834.34 1757.18 1833.9 Q1754.93 1833.47 1752.49 1832.6 M1764.13 1814.29 Q1768.06 1814.29 1770.35 1811.6 Q1772.66 1808.91 1772.66 1804.22 Q1772.66 1799.56 1770.35 1796.87 Q1768.06 1794.15 1764.13 1794.15 Q1760.19 1794.15 1757.88 1796.87 Q1755.59 1799.56 1755.59 1804.22 Q1755.59 1808.91 1757.88 1811.6 Q1760.19 1814.29 1764.13 1814.29 Z\" fill=\"#000000\" fill-rule=\"evenodd\" fill-opacity=\"1\" /><path clip-path=\"url(#clip450)\" d=\"M 0 0 M1798.36 1794.15 Q1793.84 1794.15 1791.56 1798.6 Q1789.3 1803.03 1789.3 1811.94 Q1789.3 1820.83 1791.56 1825.28 Q1793.84 1829.71 1798.36 1829.71 Q1802.9 1829.71 1805.16 1825.28 Q1807.44 1820.83 1807.44 1811.94 Q1807.44 1803.03 1805.16 1798.6 Q1802.9 1794.15 1798.36 1794.15 M1798.36 1789.52 Q1805.62 1789.52 1809.44 1795.28 Q1813.29 1801.01 1813.29 1811.94 Q1813.29 1822.85 1809.44 1828.61 Q1805.62 1834.34 1798.36 1834.34 Q1791.09 1834.34 1787.25 1828.61 Q1783.43 1822.85 1783.43 1811.94 Q1783.43 1801.01 1787.25 1795.28 Q1791.09 1789.52 1798.36 1789.52 Z\" fill=\"#000000\" fill-rule=\"evenodd\" fill-opacity=\"1\" /><path clip-path=\"url(#clip450)\" d=\"M 0 0 M1838.74 1832.6 L1838.74 1827.28 Q1840.94 1828.32 1843.2 1828.87 Q1845.46 1829.42 1847.63 1829.42 Q1853.41 1829.42 1856.45 1825.54 Q1859.52 1821.64 1859.95 1813.71 Q1858.27 1816.2 1855.7 1817.53 Q1853.12 1818.86 1850 1818.86 Q1843.52 1818.86 1839.73 1814.95 Q1835.97 1811.02 1835.97 1804.22 Q1835.97 1797.56 1839.9 1793.54 Q1843.84 1789.52 1850.38 1789.52 Q1857.87 1789.52 1861.8 1795.28 Q1865.77 1801.01 1865.77 1811.94 Q1865.77 1822.16 1860.91 1828.26 Q1856.08 1834.34 1847.89 1834.34 Q1845.69 1834.34 1843.43 1833.9 Q1841.17 1833.47 1838.74 1832.6 M1850.38 1814.29 Q1854.31 1814.29 1856.6 1811.6 Q1858.91 1808.91 1858.91 1804.22 Q1858.91 1799.56 1856.6 1796.87 Q1854.31 1794.15 1850.38 1794.15 Q1846.44 1794.15 1844.13 1796.87 Q1841.84 1799.56 1841.84 1804.22 Q1841.84 1808.91 1844.13 1811.6 Q1846.44 1814.29 1850.38 1814.29 Z\" fill=\"#000000\" fill-rule=\"evenodd\" fill-opacity=\"1\" /><path clip-path=\"url(#clip450)\" d=\"M 0 0 M1872.16 1790.3 L1895.11 1790.3 L1895.11 1795.22 L1877.52 1795.22 L1877.52 1805.81 Q1878.79 1805.37 1880.06 1805.17 Q1881.34 1804.94 1882.61 1804.94 Q1889.84 1804.94 1894.07 1808.91 Q1898.29 1812.87 1898.29 1819.64 Q1898.29 1826.61 1893.95 1830.49 Q1889.61 1834.34 1881.71 1834.34 Q1878.99 1834.34 1876.16 1833.88 Q1873.35 1833.41 1870.34 1832.49 L1870.34 1826.61 Q1872.94 1828.03 1875.72 1828.73 Q1878.5 1829.42 1881.6 1829.42 Q1886.6 1829.42 1889.52 1826.79 Q1892.45 1824.15 1892.45 1819.64 Q1892.45 1815.13 1889.52 1812.49 Q1886.6 1809.86 1881.6 1809.86 Q1879.25 1809.86 1876.91 1810.38 Q1874.59 1810.9 1872.16 1812 L1872.16 1790.3 Z\" fill=\"#000000\" fill-rule=\"evenodd\" fill-opacity=\"1\" /><path clip-path=\"url(#clip450)\" d=\"M 0 0 M1906.97 1828.58 L1916.51 1828.58 L1916.51 1795.62 L1906.13 1797.71 L1906.13 1792.38 L1916.46 1790.3 L1922.3 1790.3 L1922.3 1828.58 L1931.85 1828.58 L1931.85 1833.5 L1906.97 1833.5 L1906.97 1828.58 Z\" fill=\"#000000\" fill-rule=\"evenodd\" fill-opacity=\"1\" /><path clip-path=\"url(#clip450)\" d=\"M 0 0 M1950.69 1794.15 Q1946.17 1794.15 1943.89 1798.6 Q1941.63 1803.03 1941.63 1811.94 Q1941.63 1820.83 1943.89 1825.28 Q1946.17 1829.71 1950.69 1829.71 Q1955.23 1829.71 1957.49 1825.28 Q1959.77 1820.83 1959.77 1811.94 Q1959.77 1803.03 1957.49 1798.6 Q1955.23 1794.15 1950.69 1794.15 M1950.69 1789.52 Q1957.95 1789.52 1961.77 1795.28 Q1965.62 1801.01 1965.62 1811.94 Q1965.62 1822.85 1961.77 1828.61 Q1957.95 1834.34 1950.69 1834.34 Q1943.42 1834.34 1939.58 1828.61 Q1935.76 1822.85 1935.76 1811.94 Q1935.76 1801.01 1939.58 1795.28 Q1943.42 1789.52 1950.69 1789.52 Z\" fill=\"#000000\" fill-rule=\"evenodd\" fill-opacity=\"1\" /><path clip-path=\"url(#clip450)\" d=\"M 0 0 M1984.45 1794.15 Q1979.94 1794.15 1977.65 1798.6 Q1975.4 1803.03 1975.4 1811.94 Q1975.4 1820.83 1977.65 1825.28 Q1979.94 1829.71 1984.45 1829.71 Q1989 1829.71 1991.25 1825.28 Q1993.54 1820.83 1993.54 1811.94 Q1993.54 1803.03 1991.25 1798.6 Q1989 1794.15 1984.45 1794.15 M1984.45 1789.52 Q1991.72 1789.52 1995.54 1795.28 Q1999.38 1801.01 1999.38 1811.94 Q1999.38 1822.85 1995.54 1828.61 Q1991.72 1834.34 1984.45 1834.34 Q1977.19 1834.34 1973.34 1828.61 Q1969.52 1822.85 1969.52 1811.94 Q1969.52 1801.01 1973.34 1795.28 Q1977.19 1789.52 1984.45 1789.52 Z\" fill=\"#000000\" fill-rule=\"evenodd\" fill-opacity=\"1\" /><path clip-path=\"url(#clip450)\" d=\"M 0 0 M159.078 1753.91 Q154.564 1753.91 152.279 1758.36 Q150.022 1762.79 150.022 1771.7 Q150.022 1780.59 152.279 1785.04 Q154.564 1789.47 159.078 1789.47 Q163.621 1789.47 165.878 1785.04 Q168.164 1780.59 168.164 1771.7 Q168.164 1762.79 165.878 1758.36 Q163.621 1753.91 159.078 1753.91 M159.078 1749.28 Q166.341 1749.28 170.16 1755.04 Q174.009 1760.77 174.009 1771.7 Q174.009 1782.61 170.16 1788.37 Q166.341 1794.1 159.078 1794.1 Q151.816 1794.1 147.967 1788.37 Q144.148 1782.61 144.148 1771.7 Q144.148 1760.77 147.967 1755.04 Q151.816 1749.28 159.078 1749.28 Z\" fill=\"#000000\" fill-rule=\"evenodd\" fill-opacity=\"1\" /><path clip-path=\"url(#clip450)\" d=\"M 0 0 M180.346 1785.91 L186.451 1785.91 L186.451 1793.26 L180.346 1793.26 L180.346 1785.91 Z\" fill=\"#000000\" fill-rule=\"evenodd\" fill-opacity=\"1\" /><path clip-path=\"url(#clip450)\" d=\"M 0 0 M205.288 1753.91 Q200.774 1753.91 198.488 1758.36 Q196.231 1762.79 196.231 1771.7 Q196.231 1780.59 198.488 1785.04 Q200.774 1789.47 205.288 1789.47 Q209.83 1789.47 212.087 1785.04 Q214.373 1780.59 214.373 1771.7 Q214.373 1762.79 212.087 1758.36 Q209.83 1753.91 205.288 1753.91 M205.288 1749.28 Q212.55 1749.28 216.37 1755.04 Q220.218 1760.77 220.218 1771.7 Q220.218 1782.61 216.37 1788.37 Q212.55 1794.1 205.288 1794.1 Q198.025 1794.1 194.176 1788.37 Q190.357 1782.61 190.357 1771.7 Q190.357 1760.77 194.176 1755.04 Q198.025 1749.28 205.288 1749.28 Z\" fill=\"#000000\" fill-rule=\"evenodd\" fill-opacity=\"1\" /><path clip-path=\"url(#clip450)\" d=\"M 0 0 M160.612 1592.11 Q156.098 1592.11 153.812 1596.57 Q151.555 1601 151.555 1609.91 Q151.555 1618.79 153.812 1623.25 Q156.098 1627.67 160.612 1627.67 Q165.155 1627.67 167.412 1623.25 Q169.697 1618.79 169.697 1609.91 Q169.697 1601 167.412 1596.57 Q165.155 1592.11 160.612 1592.11 M160.612 1587.48 Q167.875 1587.48 171.694 1593.24 Q175.542 1598.97 175.542 1609.91 Q175.542 1620.82 171.694 1626.58 Q167.875 1632.3 160.612 1632.3 Q153.349 1632.3 149.501 1626.58 Q145.681 1620.82 145.681 1609.91 Q145.681 1598.97 149.501 1593.24 Q153.349 1587.48 160.612 1587.48 Z\" fill=\"#000000\" fill-rule=\"evenodd\" fill-opacity=\"1\" /><path clip-path=\"url(#clip450)\" d=\"M 0 0 M181.879 1624.12 L187.984 1624.12 L187.984 1631.47 L181.879 1631.47 L181.879 1624.12 Z\" fill=\"#000000\" fill-rule=\"evenodd\" fill-opacity=\"1\" /><path clip-path=\"url(#clip450)\" d=\"M 0 0 M195.334 1626.55 L204.882 1626.55 L204.882 1593.59 L194.495 1595.67 L194.495 1590.35 L204.825 1588.27 L210.669 1588.27 L210.669 1626.55 L220.218 1626.55 L220.218 1631.47 L195.334 1631.47 L195.334 1626.55 Z\" fill=\"#000000\" fill-rule=\"evenodd\" fill-opacity=\"1\" /><path clip-path=\"url(#clip450)\" d=\"M 0 0 M161.075 1430.32 Q156.561 1430.32 154.275 1434.77 Q152.018 1439.2 152.018 1448.11 Q152.018 1457 154.275 1461.45 Q156.561 1465.88 161.075 1465.88 Q165.618 1465.88 167.875 1461.45 Q170.16 1457 170.16 1448.11 Q170.16 1439.2 167.875 1434.77 Q165.618 1430.32 161.075 1430.32 M161.075 1425.69 Q168.337 1425.69 172.157 1431.45 Q176.005 1437.18 176.005 1448.11 Q176.005 1459.02 172.157 1464.78 Q168.337 1470.51 161.075 1470.51 Q153.812 1470.51 149.964 1464.78 Q146.144 1459.02 146.144 1448.11 Q146.144 1437.18 149.964 1431.45 Q153.812 1425.69 161.075 1425.69 Z\" fill=\"#000000\" fill-rule=\"evenodd\" fill-opacity=\"1\" /><path clip-path=\"url(#clip450)\" d=\"M 0 0 M182.342 1462.32 L188.447 1462.32 L188.447 1469.67 L182.342 1469.67 L182.342 1462.32 Z\" fill=\"#000000\" fill-rule=\"evenodd\" fill-opacity=\"1\" /><path clip-path=\"url(#clip450)\" d=\"M 0 0 M199.819 1464.75 L220.218 1464.75 L220.218 1469.67 L192.788 1469.67 L192.788 1464.75 Q196.115 1461.31 201.844 1455.52 Q207.602 1449.71 209.078 1448.03 Q211.885 1444.87 212.984 1442.7 Q214.113 1440.5 214.113 1438.39 Q214.113 1434.95 211.682 1432.78 Q209.281 1430.61 205.403 1430.61 Q202.654 1430.61 199.587 1431.56 Q196.549 1432.52 193.077 1434.46 L193.077 1428.55 Q196.607 1427.14 199.674 1426.41 Q202.741 1425.69 205.288 1425.69 Q212 1425.69 215.993 1429.05 Q219.987 1432.4 219.987 1438.02 Q219.987 1440.68 218.974 1443.08 Q217.99 1445.45 215.357 1448.69 Q214.634 1449.53 210.756 1453.55 Q206.879 1457.55 199.819 1464.75 Z\" fill=\"#000000\" fill-rule=\"evenodd\" fill-opacity=\"1\" /><path clip-path=\"url(#clip450)\" d=\"M 0 0 M159.888 1268.52 Q155.375 1268.52 153.089 1272.98 Q150.832 1277.41 150.832 1286.32 Q150.832 1295.2 153.089 1299.66 Q155.375 1304.09 159.888 1304.09 Q164.431 1304.09 166.688 1299.66 Q168.974 1295.2 168.974 1286.32 Q168.974 1277.41 166.688 1272.98 Q164.431 1268.52 159.888 1268.52 M159.888 1263.89 Q167.151 1263.89 170.971 1269.65 Q174.819 1275.38 174.819 1286.32 Q174.819 1297.23 170.971 1302.99 Q167.151 1308.71 159.888 1308.71 Q152.626 1308.71 148.777 1302.99 Q144.958 1297.23 144.958 1286.32 Q144.958 1275.38 148.777 1269.65 Q152.626 1263.89 159.888 1263.89 Z\" fill=\"#000000\" fill-rule=\"evenodd\" fill-opacity=\"1\" /><path clip-path=\"url(#clip450)\" d=\"M 0 0 M181.156 1300.53 L187.261 1300.53 L187.261 1307.88 L181.156 1307.88 L181.156 1300.53 Z\" fill=\"#000000\" fill-rule=\"evenodd\" fill-opacity=\"1\" /><path clip-path=\"url(#clip450)\" d=\"M 0 0 M211.306 1284.58 Q215.502 1285.48 217.845 1288.32 Q220.218 1291.15 220.218 1295.32 Q220.218 1301.71 215.82 1305.21 Q211.422 1308.71 203.32 1308.71 Q200.6 1308.71 197.707 1308.16 Q194.842 1307.64 191.775 1306.57 L191.775 1300.93 Q194.205 1302.35 197.099 1303.07 Q199.992 1303.8 203.146 1303.8 Q208.644 1303.8 211.509 1301.63 Q214.402 1299.46 214.402 1295.32 Q214.402 1291.5 211.711 1289.36 Q209.049 1287.19 204.275 1287.19 L199.24 1287.19 L199.24 1282.38 L204.506 1282.38 Q208.818 1282.38 211.103 1280.68 Q213.389 1278.94 213.389 1275.7 Q213.389 1272.37 211.017 1270.61 Q208.673 1268.81 204.275 1268.81 Q201.873 1268.81 199.124 1269.33 Q196.376 1269.85 193.077 1270.95 L193.077 1265.75 Q196.404 1264.82 199.298 1264.36 Q202.22 1263.89 204.796 1263.89 Q211.451 1263.89 215.328 1266.93 Q219.205 1269.94 219.205 1275.09 Q219.205 1278.68 217.151 1281.17 Q215.096 1283.63 211.306 1284.58 Z\" fill=\"#000000\" fill-rule=\"evenodd\" fill-opacity=\"1\" /><path clip-path=\"url(#clip450)\" d=\"M 0 0 M158.471 1106.73 Q153.957 1106.73 151.671 1111.19 Q149.414 1115.61 149.414 1124.52 Q149.414 1133.41 151.671 1137.86 Q153.957 1142.29 158.471 1142.29 Q163.013 1142.29 165.27 1137.86 Q167.556 1133.41 167.556 1124.52 Q167.556 1115.61 165.27 1111.19 Q163.013 1106.73 158.471 1106.73 M158.471 1102.1 Q165.733 1102.1 169.553 1107.86 Q173.401 1113.59 173.401 1124.52 Q173.401 1135.43 169.553 1141.19 Q165.733 1146.92 158.471 1146.92 Q151.208 1146.92 147.36 1141.19 Q143.54 1135.43 143.54 1124.52 Q143.54 1113.59 147.36 1107.86 Q151.208 1102.1 158.471 1102.1 Z\" fill=\"#000000\" fill-rule=\"evenodd\" fill-opacity=\"1\" /><path clip-path=\"url(#clip450)\" d=\"M 0 0 M179.738 1138.73 L185.843 1138.73 L185.843 1146.08 L179.738 1146.08 L179.738 1138.73 Z\" fill=\"#000000\" fill-rule=\"evenodd\" fill-opacity=\"1\" /><path clip-path=\"url(#clip450)\" d=\"M 0 0 M208.239 1107.97 L193.482 1131.03 L208.239 1131.03 L208.239 1107.97 M206.705 1102.88 L214.055 1102.88 L214.055 1131.03 L220.218 1131.03 L220.218 1135.9 L214.055 1135.9 L214.055 1146.08 L208.239 1146.08 L208.239 1135.9 L188.737 1135.9 L188.737 1130.25 L206.705 1102.88 Z\" fill=\"#000000\" fill-rule=\"evenodd\" fill-opacity=\"1\" /><path clip-path=\"url(#clip450)\" d=\"M 0 0 M160.322 944.934 Q155.809 944.934 153.523 949.39 Q151.266 953.817 151.266 962.729 Q151.266 971.612 153.523 976.068 Q155.809 980.495 160.322 980.495 Q164.865 980.495 167.122 976.068 Q169.408 971.612 169.408 962.729 Q169.408 953.817 167.122 949.39 Q164.865 944.934 160.322 944.934 M160.322 940.305 Q167.585 940.305 171.405 946.063 Q175.253 951.792 175.253 962.729 Q175.253 973.638 171.405 979.396 Q167.585 985.125 160.322 985.125 Q153.06 985.125 149.211 979.396 Q145.392 973.638 145.392 962.729 Q145.392 951.792 149.211 946.063 Q153.06 940.305 160.322 940.305 Z\" fill=\"#000000\" fill-rule=\"evenodd\" fill-opacity=\"1\" /><path clip-path=\"url(#clip450)\" d=\"M 0 0 M181.59 976.936 L187.695 976.936 L187.695 984.286 L181.59 984.286 L181.59 976.936 Z\" fill=\"#000000\" fill-rule=\"evenodd\" fill-opacity=\"1\" /><path clip-path=\"url(#clip450)\" d=\"M 0 0 M194.09 941.086 L217.035 941.086 L217.035 946.005 L199.443 946.005 L199.443 956.595 Q200.716 956.161 201.989 955.959 Q203.262 955.727 204.535 955.727 Q211.769 955.727 215.993 959.691 Q220.218 963.655 220.218 970.426 Q220.218 977.399 215.878 981.277 Q211.537 985.125 203.638 985.125 Q200.918 985.125 198.083 984.662 Q195.276 984.199 192.267 983.273 L192.267 977.399 Q194.871 978.817 197.649 979.512 Q200.426 980.206 203.522 980.206 Q208.528 980.206 211.451 977.573 Q214.373 974.94 214.373 970.426 Q214.373 965.912 211.451 963.279 Q208.528 960.646 203.522 960.646 Q201.179 960.646 198.835 961.167 Q196.52 961.688 194.09 962.787 L194.09 941.086 Z\" fill=\"#000000\" fill-rule=\"evenodd\" fill-opacity=\"1\" /><path clip-path=\"url(#clip450)\" d=\"M 0 0 M158.876 783.14 Q154.362 783.14 152.076 787.596 Q149.819 792.023 149.819 800.935 Q149.819 809.818 152.076 814.274 Q154.362 818.701 158.876 818.701 Q163.419 818.701 165.675 814.274 Q167.961 809.818 167.961 800.935 Q167.961 792.023 165.675 787.596 Q163.419 783.14 158.876 783.14 M158.876 778.51 Q166.138 778.51 169.958 784.268 Q173.806 789.997 173.806 800.935 Q173.806 811.843 169.958 817.601 Q166.138 823.33 158.876 823.33 Q151.613 823.33 147.765 817.601 Q143.945 811.843 143.945 800.935 Q143.945 789.997 147.765 784.268 Q151.613 778.51 158.876 778.51 Z\" fill=\"#000000\" fill-rule=\"evenodd\" fill-opacity=\"1\" /><path clip-path=\"url(#clip450)\" d=\"M 0 0 M180.143 815.142 L186.248 815.142 L186.248 822.491 L180.143 822.491 L180.143 815.142 Z\" fill=\"#000000\" fill-rule=\"evenodd\" fill-opacity=\"1\" /><path clip-path=\"url(#clip450)\" d=\"M 0 0 M205.808 798.562 Q201.873 798.562 199.558 801.253 Q197.273 803.944 197.273 808.631 Q197.273 813.29 199.558 816.01 Q201.873 818.701 205.808 818.701 Q209.744 818.701 212.029 816.01 Q214.344 813.29 214.344 808.631 Q214.344 803.944 212.029 801.253 Q209.744 798.562 205.808 798.562 M217.411 780.246 L217.411 785.57 Q215.212 784.528 212.955 783.979 Q210.727 783.429 208.528 783.429 Q202.741 783.429 199.674 787.335 Q196.636 791.241 196.202 799.141 Q197.909 796.623 200.484 795.292 Q203.06 793.932 206.156 793.932 Q212.666 793.932 216.427 797.896 Q220.218 801.832 220.218 808.631 Q220.218 815.286 216.283 819.308 Q212.348 823.33 205.808 823.33 Q198.314 823.33 194.35 817.601 Q190.386 811.843 190.386 800.935 Q190.386 790.692 195.247 784.615 Q200.108 778.51 208.297 778.51 Q210.496 778.51 212.724 778.944 Q214.981 779.378 217.411 780.246 Z\" fill=\"#000000\" fill-rule=\"evenodd\" fill-opacity=\"1\" /><path clip-path=\"url(#clip450)\" d=\"M 0 0 M160.207 621.345 Q155.693 621.345 153.407 625.801 Q151.15 630.228 151.15 639.14 Q151.15 648.023 153.407 652.479 Q155.693 656.906 160.207 656.906 Q164.75 656.906 167.006 652.479 Q169.292 648.023 169.292 639.14 Q169.292 630.228 167.006 625.801 Q164.75 621.345 160.207 621.345 M160.207 616.715 Q167.469 616.715 171.289 622.473 Q175.137 628.202 175.137 639.14 Q175.137 650.048 171.289 655.806 Q167.469 661.536 160.207 661.536 Q152.944 661.536 149.096 655.806 Q145.276 650.048 145.276 639.14 Q145.276 628.202 149.096 622.473 Q152.944 616.715 160.207 616.715 Z\" fill=\"#000000\" fill-rule=\"evenodd\" fill-opacity=\"1\" /><path clip-path=\"url(#clip450)\" d=\"M 0 0 M181.474 653.347 L187.579 653.347 L187.579 660.696 L181.474 660.696 L181.474 653.347 Z\" fill=\"#000000\" fill-rule=\"evenodd\" fill-opacity=\"1\" /><path clip-path=\"url(#clip450)\" d=\"M 0 0 M192.44 617.496 L220.218 617.496 L220.218 619.985 L204.535 660.696 L198.43 660.696 L213.187 622.415 L192.44 622.415 L192.44 617.496 Z\" fill=\"#000000\" fill-rule=\"evenodd\" fill-opacity=\"1\" /><path clip-path=\"url(#clip450)\" d=\"M 0 0 M159.194 459.55 Q154.68 459.55 152.394 464.006 Q150.137 468.433 150.137 477.345 Q150.137 486.228 152.394 490.684 Q154.68 495.111 159.194 495.111 Q163.737 495.111 165.994 490.684 Q168.28 486.228 168.28 477.345 Q168.28 468.433 165.994 464.006 Q163.737 459.55 159.194 459.55 M159.194 454.92 Q166.457 454.92 170.276 460.678 Q174.124 466.408 174.124 477.345 Q174.124 488.254 170.276 494.012 Q166.457 499.741 159.194 499.741 Q151.931 499.741 148.083 494.012 Q144.264 488.254 144.264 477.345 Q144.264 466.408 148.083 460.678 Q151.931 454.92 159.194 454.92 Z\" fill=\"#000000\" fill-rule=\"evenodd\" fill-opacity=\"1\" /><path clip-path=\"url(#clip450)\" d=\"M 0 0 M180.461 491.552 L186.567 491.552 L186.567 498.902 L180.461 498.902 L180.461 491.552 Z\" fill=\"#000000\" fill-rule=\"evenodd\" fill-opacity=\"1\" /><path clip-path=\"url(#clip450)\" d=\"M 0 0 M205.403 478.387 Q201.237 478.387 198.835 480.615 Q196.462 482.843 196.462 486.749 Q196.462 490.655 198.835 492.883 Q201.237 495.111 205.403 495.111 Q209.57 495.111 211.972 492.883 Q214.373 490.626 214.373 486.749 Q214.373 482.843 211.972 480.615 Q209.599 478.387 205.403 478.387 M199.558 475.898 Q195.797 474.972 193.685 472.397 Q191.601 469.822 191.601 466.118 Q191.601 460.939 195.276 457.93 Q198.98 454.92 205.403 454.92 Q211.856 454.92 215.531 457.93 Q219.205 460.939 219.205 466.118 Q219.205 469.822 217.093 472.397 Q215.01 474.972 211.277 475.898 Q215.502 476.882 217.845 479.747 Q220.218 482.611 220.218 486.749 Q220.218 493.028 216.37 496.384 Q212.55 499.741 205.403 499.741 Q198.256 499.741 194.408 496.384 Q190.589 493.028 190.589 486.749 Q190.589 482.611 192.961 479.747 Q195.334 476.882 199.558 475.898 M197.417 466.668 Q197.417 470.025 199.501 471.905 Q201.613 473.786 205.403 473.786 Q209.165 473.786 211.277 471.905 Q213.418 470.025 213.418 466.668 Q213.418 463.312 211.277 461.431 Q209.165 459.55 205.403 459.55 Q201.613 459.55 199.501 461.431 Q197.417 463.312 197.417 466.668 Z\" fill=\"#000000\" fill-rule=\"evenodd\" fill-opacity=\"1\" /><path clip-path=\"url(#clip450)\" d=\"M 0 0 M159.31 297.755 Q154.796 297.755 152.51 302.211 Q150.253 306.638 150.253 315.55 Q150.253 324.433 152.51 328.889 Q154.796 333.316 159.31 333.316 Q163.853 333.316 166.109 328.889 Q168.395 324.433 168.395 315.55 Q168.395 306.638 166.109 302.211 Q163.853 297.755 159.31 297.755 M159.31 293.126 Q166.572 293.126 170.392 298.884 Q174.24 304.613 174.24 315.55 Q174.24 326.459 170.392 332.217 Q166.572 337.946 159.31 337.946 Q152.047 337.946 148.199 332.217 Q144.379 326.459 144.379 315.55 Q144.379 304.613 148.199 298.884 Q152.047 293.126 159.31 293.126 Z\" fill=\"#000000\" fill-rule=\"evenodd\" fill-opacity=\"1\" /><path clip-path=\"url(#clip450)\" d=\"M 0 0 M180.577 329.757 L186.682 329.757 L186.682 337.107 L180.577 337.107 L180.577 329.757 Z\" fill=\"#000000\" fill-rule=\"evenodd\" fill-opacity=\"1\" /><path clip-path=\"url(#clip450)\" d=\"M 0 0 M193.193 336.21 L193.193 330.886 Q195.392 331.928 197.649 332.477 Q199.906 333.027 202.076 333.027 Q207.863 333.027 210.901 329.15 Q213.968 325.244 214.402 317.315 Q212.724 319.804 210.149 321.135 Q207.573 322.466 204.448 322.466 Q197.967 322.466 194.176 318.56 Q190.415 314.624 190.415 307.825 Q190.415 301.17 194.35 297.148 Q198.285 293.126 204.825 293.126 Q212.319 293.126 216.254 298.884 Q220.218 304.613 220.218 315.55 Q220.218 325.764 215.357 331.87 Q210.525 337.946 202.336 337.946 Q200.137 337.946 197.88 337.512 Q195.623 337.078 193.193 336.21 M204.825 317.894 Q208.76 317.894 211.046 315.203 Q213.36 312.512 213.36 307.825 Q213.36 303.166 211.046 300.475 Q208.76 297.755 204.825 297.755 Q200.889 297.755 198.575 300.475 Q196.289 303.166 196.289 307.825 Q196.289 312.512 198.575 315.203 Q200.889 317.894 204.825 317.894 Z\" fill=\"#000000\" fill-rule=\"evenodd\" fill-opacity=\"1\" /><path clip-path=\"url(#clip450)\" d=\"M 0 0 M149.125 170.393 L158.673 170.393 L158.673 137.436 L148.286 139.519 L148.286 134.195 L158.615 132.112 L164.46 132.112 L164.46 170.393 L174.009 170.393 L174.009 175.312 L149.125 175.312 L149.125 170.393 Z\" fill=\"#000000\" fill-rule=\"evenodd\" fill-opacity=\"1\" /><path clip-path=\"url(#clip450)\" d=\"M 0 0 M180.346 167.963 L186.451 167.963 L186.451 175.312 L180.346 175.312 L180.346 167.963 Z\" fill=\"#000000\" fill-rule=\"evenodd\" fill-opacity=\"1\" /><path clip-path=\"url(#clip450)\" d=\"M 0 0 M205.288 135.96 Q200.774 135.96 198.488 140.416 Q196.231 144.844 196.231 153.756 Q196.231 162.639 198.488 167.095 Q200.774 171.522 205.288 171.522 Q209.83 171.522 212.087 167.095 Q214.373 162.639 214.373 153.756 Q214.373 144.844 212.087 140.416 Q209.83 135.96 205.288 135.96 M205.288 131.331 Q212.55 131.331 216.37 137.089 Q220.218 142.818 220.218 153.756 Q220.218 164.664 216.37 170.422 Q212.55 176.151 205.288 176.151 Q198.025 176.151 194.176 170.422 Q190.357 164.664 190.357 153.756 Q190.357 142.818 194.176 137.089 Q198.025 131.331 205.288 131.331 Z\" fill=\"#000000\" fill-rule=\"evenodd\" fill-opacity=\"1\" /><path clip-path=\"url(#clip450)\" d=\"M 0 0 M915.472 12.096 L923.655 12.096 L923.655 65.6895 L953.105 65.6895 L953.105 72.576 L915.472 72.576 L915.472 12.096 Z\" fill=\"#000000\" fill-rule=\"evenodd\" fill-opacity=\"1\" /><path clip-path=\"url(#clip450)\" d=\"M 0 0 M969.43 18.8205 L969.43 41.5461 L979.72 41.5461 Q985.431 41.5461 988.551 38.5889 Q991.67 35.6318 991.67 30.163 Q991.67 24.7348 988.551 21.7777 Q985.431 18.8205 979.72 18.8205 L969.43 18.8205 M961.248 12.096 L979.72 12.096 Q989.887 12.096 995.073 16.714 Q1000.3 21.2916 1000.3 30.163 Q1000.3 39.1155 995.073 43.6931 Q989.887 48.2706 979.72 48.2706 L969.43 48.2706 L969.43 72.576 L961.248 72.576 L961.248 12.096 Z\" fill=\"#000000\" fill-rule=\"evenodd\" fill-opacity=\"1\" /><path clip-path=\"url(#clip450)\" d=\"M 0 0 M1053.73 16.7545 L1053.73 25.383 Q1049.6 21.5346 1044.9 19.6307 Q1040.24 17.7268 1034.97 17.7268 Q1024.6 17.7268 1019.09 24.0867 Q1013.59 30.4061 1013.59 42.3968 Q1013.59 54.3469 1019.09 60.7069 Q1024.6 67.0263 1034.97 67.0263 Q1040.24 67.0263 1044.9 65.1223 Q1049.6 63.2184 1053.73 59.3701 L1053.73 67.9175 Q1049.44 70.8341 1044.62 72.2924 Q1039.84 73.7508 1034.49 73.7508 Q1020.76 73.7508 1012.86 65.3654 Q1004.96 56.9395 1004.96 42.3968 Q1004.96 27.8135 1012.86 19.4281 Q1020.76 11.0023 1034.49 11.0023 Q1039.92 11.0023 1044.7 12.4606 Q1049.52 13.8784 1053.73 16.7545 Z\" fill=\"#000000\" fill-rule=\"evenodd\" fill-opacity=\"1\" /><path clip-path=\"url(#clip450)\" d=\"M 0 0 M1099.26 45.1919 L1099.26 72.576 L1091.81 72.576 L1091.81 45.4349 Q1091.81 38.994 1089.3 35.7938 Q1086.79 32.5936 1081.76 32.5936 Q1075.73 32.5936 1072.24 36.4419 Q1068.76 40.2903 1068.76 46.9338 L1068.76 72.576 L1061.26 72.576 L1061.26 9.54393 L1068.76 9.54393 L1068.76 34.2544 Q1071.43 30.163 1075.04 28.1376 Q1078.68 26.1121 1083.42 26.1121 Q1091.24 26.1121 1095.25 30.9732 Q1099.26 35.7938 1099.26 45.1919 Z\" fill=\"#000000\" fill-rule=\"evenodd\" fill-opacity=\"1\" /><path clip-path=\"url(#clip450)\" d=\"M 0 0 M1124.66 32.4315 Q1118.67 32.4315 1115.18 37.1306 Q1111.7 41.7891 1111.7 49.9314 Q1111.7 58.0738 1115.14 62.7728 Q1118.63 67.4314 1124.66 67.4314 Q1130.62 67.4314 1134.1 62.7323 Q1137.58 58.0333 1137.58 49.9314 Q1137.58 41.8701 1134.1 37.1711 Q1130.62 32.4315 1124.66 32.4315 M1124.66 26.1121 Q1134.38 26.1121 1139.93 32.4315 Q1145.48 38.7509 1145.48 49.9314 Q1145.48 61.0714 1139.93 67.4314 Q1134.38 73.7508 1124.66 73.7508 Q1114.9 73.7508 1109.35 67.4314 Q1103.84 61.0714 1103.84 49.9314 Q1103.84 38.7509 1109.35 32.4315 Q1114.9 26.1121 1124.66 26.1121 Z\" fill=\"#000000\" fill-rule=\"evenodd\" fill-opacity=\"1\" /><path clip-path=\"url(#clip450)\" d=\"M 0 0 M1170.88 32.4315 Q1164.89 32.4315 1161.4 37.1306 Q1157.92 41.7891 1157.92 49.9314 Q1157.92 58.0738 1161.36 62.7728 Q1164.85 67.4314 1170.88 67.4314 Q1176.84 67.4314 1180.32 62.7323 Q1183.8 58.0333 1183.8 49.9314 Q1183.8 41.8701 1180.32 37.1711 Q1176.84 32.4315 1170.88 32.4315 M1170.88 26.1121 Q1180.6 26.1121 1186.15 32.4315 Q1191.7 38.7509 1191.7 49.9314 Q1191.7 61.0714 1186.15 67.4314 Q1180.6 73.7508 1170.88 73.7508 Q1161.12 73.7508 1155.57 67.4314 Q1150.06 61.0714 1150.06 49.9314 Q1150.06 38.7509 1155.57 32.4315 Q1161.12 26.1121 1170.88 26.1121 Z\" fill=\"#000000\" fill-rule=\"evenodd\" fill-opacity=\"1\" /><path clip-path=\"url(#clip450)\" d=\"M 0 0 M1228.45 28.5427 L1228.45 35.5912 Q1225.29 33.9709 1221.88 33.1607 Q1218.48 32.3505 1214.83 32.3505 Q1209.28 32.3505 1206.49 34.0519 Q1203.73 35.7533 1203.73 39.156 Q1203.73 41.7486 1205.72 43.2475 Q1207.7 44.7058 1213.7 46.0426 L1216.25 46.6097 Q1224.19 48.3111 1227.51 51.4303 Q1230.88 54.509 1230.88 60.0587 Q1230.88 66.3781 1225.85 70.0644 Q1220.87 73.7508 1212.12 73.7508 Q1208.47 73.7508 1204.5 73.0216 Q1200.57 72.3329 1196.2 70.9151 L1196.2 63.2184 Q1200.33 65.3654 1204.34 66.4591 Q1208.35 67.5124 1212.28 67.5124 Q1217.55 67.5124 1220.38 65.73 Q1223.22 63.9071 1223.22 60.6258 Q1223.22 57.5877 1221.15 55.9673 Q1219.13 54.3469 1212.2 52.8481 L1209.61 52.2405 Q1202.68 50.7821 1199.6 47.7845 Q1196.52 44.7463 1196.52 39.4801 Q1196.52 33.0797 1201.06 29.5959 Q1205.6 26.1121 1213.94 26.1121 Q1218.07 26.1121 1221.72 26.7198 Q1225.37 27.3274 1228.45 28.5427 Z\" fill=\"#000000\" fill-rule=\"evenodd\" fill-opacity=\"1\" /><path clip-path=\"url(#clip450)\" d=\"M 0 0 M1277.5 48.0275 L1277.5 51.6733 L1243.23 51.6733 Q1243.72 59.3701 1247.85 63.421 Q1252.02 67.4314 1259.43 67.4314 Q1263.73 67.4314 1267.74 66.3781 Q1271.79 65.3249 1275.76 63.2184 L1275.76 70.267 Q1271.75 71.9684 1267.54 72.8596 Q1263.32 73.7508 1258.99 73.7508 Q1248.13 73.7508 1241.77 67.4314 Q1235.45 61.1119 1235.45 50.3365 Q1235.45 39.1965 1241.45 32.6746 Q1247.48 26.1121 1257.69 26.1121 Q1266.85 26.1121 1272.15 32.0264 Q1277.5 37.9003 1277.5 48.0275 M1270.05 45.84 Q1269.97 39.7232 1266.6 36.0774 Q1263.28 32.4315 1257.77 32.4315 Q1251.54 32.4315 1247.77 35.9558 Q1244.04 39.4801 1243.47 45.8805 L1270.05 45.84 Z\" fill=\"#000000\" fill-rule=\"evenodd\" fill-opacity=\"1\" /><path clip-path=\"url(#clip450)\" d=\"M 0 0 M902.535 1888.74 L902.535 1908.3 L897.211 1908.3 L897.211 1888.91 Q897.211 1884.31 895.417 1882.03 Q893.623 1879.74 890.036 1879.74 Q885.724 1879.74 883.236 1882.49 Q880.747 1885.24 880.747 1889.98 L880.747 1908.3 L875.394 1908.3 L875.394 1875.89 L880.747 1875.89 L880.747 1880.93 Q882.657 1878 885.232 1876.56 Q887.836 1875.11 891.222 1875.11 Q896.806 1875.11 899.671 1878.58 Q902.535 1882.03 902.535 1888.74 Z\" fill=\"#000000\" fill-rule=\"evenodd\" fill-opacity=\"1\" /><path clip-path=\"url(#clip450)\" d=\"M 0 0 M907.57 1895.51 L907.57 1875.89 L912.894 1875.89 L912.894 1895.31 Q912.894 1899.91 914.688 1902.22 Q916.482 1904.51 920.07 1904.51 Q924.381 1904.51 926.87 1901.76 Q929.387 1899.01 929.387 1894.27 L929.387 1875.89 L934.711 1875.89 L934.711 1908.3 L929.387 1908.3 L929.387 1903.32 Q927.449 1906.27 924.873 1907.72 Q922.327 1909.14 918.942 1909.14 Q913.357 1909.14 910.464 1905.67 Q907.57 1902.19 907.57 1895.51 M920.967 1875.11 L920.967 1875.11 Z\" fill=\"#000000\" fill-rule=\"evenodd\" fill-opacity=\"1\" /><path clip-path=\"url(#clip450)\" d=\"M 0 0 M965.527 1882.11 Q967.524 1878.53 970.301 1876.82 Q973.079 1875.11 976.841 1875.11 Q981.904 1875.11 984.653 1878.67 Q987.402 1882.2 987.402 1888.74 L987.402 1908.3 L982.049 1908.3 L982.049 1888.91 Q982.049 1884.25 980.4 1882 Q978.75 1879.74 975.365 1879.74 Q971.227 1879.74 968.826 1882.49 Q966.424 1885.24 966.424 1889.98 L966.424 1908.3 L961.071 1908.3 L961.071 1888.91 Q961.071 1884.23 959.422 1882 Q957.772 1879.74 954.329 1879.74 Q950.249 1879.74 947.848 1882.52 Q945.446 1885.27 945.446 1889.98 L945.446 1908.3 L940.093 1908.3 L940.093 1875.89 L945.446 1875.89 L945.446 1880.93 Q947.269 1877.95 949.815 1876.53 Q952.362 1875.11 955.863 1875.11 Q959.393 1875.11 961.852 1876.91 Q964.341 1878.7 965.527 1882.11 Z\" fill=\"#000000\" fill-rule=\"evenodd\" fill-opacity=\"1\" /><path clip-path=\"url(#clip450)\" d=\"M 0 0 M1016.25 1892.13 Q1016.25 1886.25 1013.82 1882.92 Q1011.42 1879.57 1007.19 1879.57 Q1002.97 1879.57 1000.54 1882.92 Q998.137 1886.25 998.137 1892.13 Q998.137 1898 1000.54 1901.36 Q1002.97 1904.68 1007.19 1904.68 Q1011.42 1904.68 1013.82 1901.36 Q1016.25 1898 1016.25 1892.13 M998.137 1880.81 Q999.815 1877.92 1002.36 1876.53 Q1004.94 1875.11 1008.5 1875.11 Q1014.4 1875.11 1018.07 1879.8 Q1021.78 1884.49 1021.78 1892.13 Q1021.78 1899.76 1018.07 1904.45 Q1014.4 1909.14 1008.5 1909.14 Q1004.94 1909.14 1002.36 1907.75 Q999.815 1906.33 998.137 1903.44 L998.137 1908.3 L992.784 1908.3 L992.784 1863.28 L998.137 1863.28 L998.137 1880.81 Z\" fill=\"#000000\" fill-rule=\"evenodd\" fill-opacity=\"1\" /><path clip-path=\"url(#clip450)\" d=\"M 0 0 M1055.08 1890.77 L1055.08 1893.37 L1030.6 1893.37 Q1030.95 1898.87 1033.9 1901.76 Q1036.88 1904.63 1042.18 1904.63 Q1045.24 1904.63 1048.11 1903.87 Q1051 1903.12 1053.84 1901.62 L1053.84 1906.65 Q1050.97 1907.87 1047.96 1908.5 Q1044.95 1909.14 1041.86 1909.14 Q1034.1 1909.14 1029.56 1904.63 Q1025.05 1900.11 1025.05 1892.41 Q1025.05 1884.46 1029.33 1879.8 Q1033.64 1875.11 1040.93 1875.11 Q1047.47 1875.11 1051.26 1879.34 Q1055.08 1883.53 1055.08 1890.77 M1049.76 1889.2 Q1049.7 1884.83 1047.3 1882.23 Q1044.92 1879.63 1040.99 1879.63 Q1036.53 1879.63 1033.84 1882.14 Q1031.18 1884.66 1030.78 1889.23 L1049.76 1889.2 Z\" fill=\"#000000\" fill-rule=\"evenodd\" fill-opacity=\"1\" /><path clip-path=\"url(#clip450)\" d=\"M 0 0 M1079.44 1880.87 Q1078.55 1880.35 1077.48 1880.12 Q1076.43 1879.86 1075.16 1879.86 Q1070.65 1879.86 1068.22 1882.81 Q1065.82 1885.73 1065.82 1891.23 L1065.82 1908.3 L1060.46 1908.3 L1060.46 1875.89 L1065.82 1875.89 L1065.82 1880.93 Q1067.49 1877.98 1070.19 1876.56 Q1072.88 1875.11 1076.72 1875.11 Q1077.27 1875.11 1077.94 1875.2 Q1078.61 1875.26 1079.42 1875.4 L1079.44 1880.87 Z\" fill=\"#000000\" fill-rule=\"evenodd\" fill-opacity=\"1\" /><path clip-path=\"url(#clip450)\" d=\"M 0 0 M1116.42 1879.63 Q1112.14 1879.63 1109.65 1882.98 Q1107.16 1886.31 1107.16 1892.13 Q1107.16 1897.94 1109.62 1901.3 Q1112.11 1904.63 1116.42 1904.63 Q1120.68 1904.63 1123.17 1901.27 Q1125.65 1897.91 1125.65 1892.13 Q1125.65 1886.37 1123.17 1883.01 Q1120.68 1879.63 1116.42 1879.63 M1116.42 1875.11 Q1123.37 1875.11 1127.33 1879.63 Q1131.3 1884.14 1131.3 1892.13 Q1131.3 1900.08 1127.33 1904.63 Q1123.37 1909.14 1116.42 1909.14 Q1109.45 1909.14 1105.49 1904.63 Q1101.55 1900.08 1101.55 1892.13 Q1101.55 1884.14 1105.49 1879.63 Q1109.45 1875.11 1116.42 1875.11 Z\" fill=\"#000000\" fill-rule=\"evenodd\" fill-opacity=\"1\" /><path clip-path=\"url(#clip450)\" d=\"M 0 0 M1153.29 1863.28 L1153.29 1867.7 L1148.19 1867.7 Q1145.33 1867.7 1144.2 1868.86 Q1143.1 1870.02 1143.1 1873.03 L1143.1 1875.89 L1151.87 1875.89 L1151.87 1880.03 L1143.1 1880.03 L1143.1 1908.3 L1137.75 1908.3 L1137.75 1880.03 L1132.66 1880.03 L1132.66 1875.89 L1137.75 1875.89 L1137.75 1873.64 Q1137.75 1868.22 1140.27 1865.77 Q1142.78 1863.28 1148.25 1863.28 L1153.29 1863.28 Z\" fill=\"#000000\" fill-rule=\"evenodd\" fill-opacity=\"1\" /><path clip-path=\"url(#clip450)\" d=\"M 0 0 M1198.37 1876.85 L1198.37 1881.88 Q1196.11 1880.72 1193.68 1880.15 Q1191.25 1879.57 1188.65 1879.57 Q1184.68 1879.57 1182.68 1880.78 Q1180.72 1882 1180.72 1884.43 Q1180.72 1886.28 1182.13 1887.35 Q1183.55 1888.39 1187.83 1889.35 L1189.66 1889.75 Q1195.33 1890.97 1197.7 1893.2 Q1200.1 1895.39 1200.1 1899.36 Q1200.1 1903.87 1196.52 1906.51 Q1192.96 1909.14 1186.71 1909.14 Q1184.1 1909.14 1181.27 1908.62 Q1178.46 1908.13 1175.33 1907.11 L1175.33 1901.62 Q1178.29 1903.15 1181.15 1903.93 Q1184.02 1904.68 1186.82 1904.68 Q1190.58 1904.68 1192.61 1903.41 Q1194.63 1902.11 1194.63 1899.76 Q1194.63 1897.59 1193.16 1896.44 Q1191.71 1895.28 1186.76 1894.21 L1184.91 1893.77 Q1179.96 1892.73 1177.77 1890.59 Q1175.57 1888.42 1175.57 1884.66 Q1175.57 1880.09 1178.81 1877.6 Q1182.05 1875.11 1188.01 1875.11 Q1190.96 1875.11 1193.56 1875.55 Q1196.17 1875.98 1198.37 1876.85 Z\" fill=\"#000000\" fill-rule=\"evenodd\" fill-opacity=\"1\" /><path clip-path=\"url(#clip450)\" d=\"M 0 0 M1210.95 1866.69 L1210.95 1875.89 L1221.92 1875.89 L1221.92 1880.03 L1210.95 1880.03 L1210.95 1897.62 Q1210.95 1901.59 1212.02 1902.72 Q1213.12 1903.84 1216.45 1903.84 L1221.92 1903.84 L1221.92 1908.3 L1216.45 1908.3 Q1210.29 1908.3 1207.94 1906.01 Q1205.6 1903.7 1205.6 1897.62 L1205.6 1880.03 L1201.69 1880.03 L1201.69 1875.89 L1205.6 1875.89 L1205.6 1866.69 L1210.95 1866.69 Z\" fill=\"#000000\" fill-rule=\"evenodd\" fill-opacity=\"1\" /><path clip-path=\"url(#clip450)\" d=\"M 0 0 M1255.22 1890.77 L1255.22 1893.37 L1230.75 1893.37 Q1231.09 1898.87 1234.04 1901.76 Q1237.02 1904.63 1242.32 1904.63 Q1245.39 1904.63 1248.25 1903.87 Q1251.14 1903.12 1253.98 1901.62 L1253.98 1906.65 Q1251.12 1907.87 1248.11 1908.5 Q1245.1 1909.14 1242 1909.14 Q1234.25 1909.14 1229.7 1904.63 Q1225.19 1900.11 1225.19 1892.41 Q1225.19 1884.46 1229.47 1879.8 Q1233.78 1875.11 1241.08 1875.11 Q1247.61 1875.11 1251.41 1879.34 Q1255.22 1883.53 1255.22 1890.77 M1249.9 1889.2 Q1249.84 1884.83 1247.44 1882.23 Q1245.07 1879.63 1241.13 1879.63 Q1236.68 1879.63 1233.99 1882.14 Q1231.32 1884.66 1230.92 1889.23 L1249.9 1889.2 Z\" fill=\"#000000\" fill-rule=\"evenodd\" fill-opacity=\"1\" /><path clip-path=\"url(#clip450)\" d=\"M 0 0 M1265.96 1903.44 L1265.96 1920.63 L1260.61 1920.63 L1260.61 1875.89 L1265.96 1875.89 L1265.96 1880.81 Q1267.64 1877.92 1270.18 1876.53 Q1272.76 1875.11 1276.32 1875.11 Q1282.22 1875.11 1285.9 1879.8 Q1289.6 1884.49 1289.6 1892.13 Q1289.6 1899.76 1285.9 1904.45 Q1282.22 1909.14 1276.32 1909.14 Q1272.76 1909.14 1270.18 1907.75 Q1267.64 1906.33 1265.96 1903.44 M1284.07 1892.13 Q1284.07 1886.25 1281.64 1882.92 Q1279.24 1879.57 1275.02 1879.57 Q1270.79 1879.57 1268.36 1882.92 Q1265.96 1886.25 1265.96 1892.13 Q1265.96 1898 1268.36 1901.36 Q1270.79 1904.68 1275.02 1904.68 Q1279.24 1904.68 1281.64 1901.36 Q1284.07 1898 1284.07 1892.13 Z\" fill=\"#000000\" fill-rule=\"evenodd\" fill-opacity=\"1\" /><path clip-path=\"url(#clip450)\" d=\"M 0 0 M1315.84 1876.85 L1315.84 1881.88 Q1313.59 1880.72 1311.16 1880.15 Q1308.73 1879.57 1306.12 1879.57 Q1302.16 1879.57 1300.16 1880.78 Q1298.19 1882 1298.19 1884.43 Q1298.19 1886.28 1299.61 1887.35 Q1301.03 1888.39 1305.31 1889.35 L1307.13 1889.75 Q1312.81 1890.97 1315.18 1893.2 Q1317.58 1895.39 1317.58 1899.36 Q1317.58 1903.87 1313.99 1906.51 Q1310.43 1909.14 1304.18 1909.14 Q1301.58 1909.14 1298.74 1908.62 Q1295.94 1908.13 1292.81 1907.11 L1292.81 1901.62 Q1295.76 1903.15 1298.63 1903.93 Q1301.49 1904.68 1304.3 1904.68 Q1308.06 1904.68 1310.09 1903.41 Q1312.11 1902.11 1312.11 1899.76 Q1312.11 1897.59 1310.64 1896.44 Q1309.19 1895.28 1304.24 1894.21 L1302.39 1893.77 Q1297.44 1892.73 1295.24 1890.59 Q1293.04 1888.42 1293.04 1884.66 Q1293.04 1880.09 1296.28 1877.6 Q1299.52 1875.11 1305.48 1875.11 Q1308.44 1875.11 1311.04 1875.55 Q1313.64 1875.98 1315.84 1876.85 Z\" fill=\"#000000\" fill-rule=\"evenodd\" fill-opacity=\"1\" /><path clip-path=\"url(#clip450)\" d=\"M 0 0 M79.4171 1060.1 L84.394 1060.1 Q83.1497 1062.35 82.5421 1064.64 Q81.9055 1066.9 81.9055 1069.21 Q81.9055 1074.39 85.2041 1077.25 Q88.4738 1080.12 94.4055 1080.12 Q100.337 1080.12 103.636 1077.25 Q106.905 1074.39 106.905 1069.21 Q106.905 1066.9 106.298 1064.64 Q105.661 1062.35 104.417 1060.1 L109.336 1060.1 Q110.378 1062.32 110.898 1064.73 Q111.419 1067.1 111.419 1069.79 Q111.419 1077.11 106.819 1081.42 Q102.218 1085.73 94.4055 1085.73 Q86.4773 1085.73 81.9345 1081.39 Q77.3917 1077.02 77.3917 1069.44 Q77.3917 1066.98 77.9125 1064.64 Q78.4044 1062.29 79.4171 1060.1 Z\" fill=\"#000000\" fill-rule=\"evenodd\" fill-opacity=\"1\" /><path clip-path=\"url(#clip450)\" d=\"M 0 0 M81.9055 1041.95 Q81.9055 1046.24 85.262 1048.72 Q88.5895 1051.21 94.4055 1051.21 Q100.221 1051.21 103.578 1048.75 Q106.905 1046.26 106.905 1041.95 Q106.905 1037.7 103.549 1035.21 Q100.192 1032.72 94.4055 1032.72 Q88.6474 1032.72 85.2909 1035.21 Q81.9055 1037.7 81.9055 1041.95 M77.3917 1041.95 Q77.3917 1035.01 81.9055 1031.04 Q86.4194 1027.08 94.4055 1027.08 Q102.363 1027.08 106.905 1031.04 Q111.419 1035.01 111.419 1041.95 Q111.419 1048.93 106.905 1052.89 Q102.363 1056.83 94.4055 1056.83 Q86.4194 1056.83 81.9055 1052.89 Q77.3917 1048.93 77.3917 1041.95 Z\" fill=\"#000000\" fill-rule=\"evenodd\" fill-opacity=\"1\" /><path clip-path=\"url(#clip450)\" d=\"M 0 0 M78.1729 1025.32 L78.1729 1019.67 L105.372 1009.55 L78.1729 999.419 L78.1729 993.777 L110.58 1005.93 L110.58 1013.16 L78.1729 1025.32 Z\" fill=\"#000000\" fill-rule=\"evenodd\" fill-opacity=\"1\" /><path clip-path=\"url(#clip450)\" d=\"M 0 0 M93.0455 960.472 L95.6497 960.472 L95.6497 984.951 Q101.147 984.604 104.041 981.653 Q106.905 978.673 106.905 973.377 Q106.905 970.31 106.153 967.446 Q105.401 964.552 103.896 961.717 L108.931 961.717 Q110.146 964.581 110.783 967.59 Q111.419 970.6 111.419 973.696 Q111.419 981.45 106.905 985.993 Q102.392 990.507 94.6948 990.507 Q86.7377 990.507 82.0792 986.225 Q77.3917 981.913 77.3917 974.622 Q77.3917 968.082 81.6162 964.292 Q85.8118 960.472 93.0455 960.472 M91.483 965.796 Q87.1138 965.854 84.5097 968.256 Q81.9055 970.629 81.9055 974.564 Q81.9055 979.02 84.4229 981.711 Q86.9402 984.373 91.512 984.778 L91.483 965.796 Z\" fill=\"#000000\" fill-rule=\"evenodd\" fill-opacity=\"1\" /><path clip-path=\"url(#clip450)\" d=\"M 0 0 M83.1497 936.109 Q82.6289 937.006 82.3974 938.077 Q82.137 939.118 82.137 940.392 Q82.137 944.905 85.0884 947.336 Q88.0108 949.738 93.5085 949.738 L110.58 949.738 L110.58 955.091 L78.1729 955.091 L78.1729 949.738 L83.2076 949.738 Q80.2562 948.059 78.8384 945.368 Q77.3917 942.677 77.3917 938.829 Q77.3917 938.279 77.4785 937.614 Q77.5364 936.948 77.681 936.138 L83.1497 936.109 Z\" fill=\"#000000\" fill-rule=\"evenodd\" fill-opacity=\"1\" /><path clip-path=\"url(#clip450)\" d=\"M 0 0 M94.2897 915.797 Q94.2897 922.249 95.7654 924.738 Q97.2411 927.226 100.8 927.226 Q103.636 927.226 105.314 925.374 Q106.963 923.493 106.963 920.282 Q106.963 915.855 103.838 913.193 Q100.684 910.502 95.4761 910.502 L94.2897 910.502 L94.2897 915.797 M92.0907 905.178 L110.58 905.178 L110.58 910.502 L105.661 910.502 Q108.613 912.325 110.03 915.044 Q111.419 917.764 111.419 921.7 Q111.419 926.676 108.642 929.628 Q105.835 932.55 101.147 932.55 Q95.6786 932.55 92.9009 928.904 Q90.1231 925.23 90.1231 917.967 L90.1231 910.502 L89.6023 910.502 Q85.9275 910.502 83.931 912.932 Q81.9055 915.334 81.9055 919.703 Q81.9055 922.481 82.571 925.114 Q83.2366 927.747 84.5676 930.177 L79.6486 930.177 Q78.5201 927.255 77.9704 924.506 Q77.3917 921.757 77.3917 919.153 Q77.3917 912.122 81.0375 908.65 Q84.6833 905.178 92.0907 905.178 Z\" fill=\"#000000\" fill-rule=\"evenodd\" fill-opacity=\"1\" /><path clip-path=\"url(#clip450)\" d=\"M 0 0 M94.0004 878.268 Q88.2134 878.268 85.0305 880.67 Q81.8477 883.042 81.8477 887.354 Q81.8477 891.636 85.0305 894.038 Q88.2134 896.41 94.0004 896.41 Q99.7585 896.41 102.941 894.038 Q106.124 891.636 106.124 887.354 Q106.124 883.042 102.941 880.67 Q99.7585 878.268 94.0004 878.268 M106.558 872.944 Q114.834 872.944 118.856 876.619 Q122.906 880.293 122.906 887.874 Q122.906 890.681 122.472 893.17 Q122.067 895.658 121.199 898.002 L116.02 898.002 Q117.293 895.658 117.901 893.372 Q118.508 891.086 118.508 888.714 Q118.508 883.476 115.76 880.872 Q113.04 878.268 107.513 878.268 L104.88 878.268 Q107.745 879.917 109.162 882.493 Q110.58 885.068 110.58 888.656 Q110.58 894.616 106.037 898.262 Q101.495 901.908 94.0004 901.908 Q86.4773 901.908 81.9345 898.262 Q77.3917 894.616 77.3917 888.656 Q77.3917 885.068 78.8095 882.493 Q80.2273 879.917 83.0919 878.268 L78.1729 878.268 L78.1729 872.944 L106.558 872.944 Z\" fill=\"#000000\" fill-rule=\"evenodd\" fill-opacity=\"1\" /><path clip-path=\"url(#clip450)\" d=\"M 0 0 M93.0455 839.64 L95.6497 839.64 L95.6497 864.119 Q101.147 863.772 104.041 860.82 Q106.905 857.84 106.905 852.545 Q106.905 849.478 106.153 846.613 Q105.401 843.72 103.896 840.884 L108.931 840.884 Q110.146 843.749 110.783 846.758 Q111.419 849.767 111.419 852.863 Q111.419 860.618 106.905 865.16 Q102.392 869.674 94.6948 869.674 Q86.7377 869.674 82.0792 865.392 Q77.3917 861.081 77.3917 853.789 Q77.3917 847.25 81.6162 843.459 Q85.8118 839.64 93.0455 839.64 M91.483 844.964 Q87.1138 845.022 84.5097 847.423 Q81.9055 849.796 81.9055 853.731 Q81.9055 858.187 84.4229 860.878 Q86.9402 863.54 91.512 863.945 L91.483 844.964 Z\" fill=\"#000000\" fill-rule=\"evenodd\" fill-opacity=\"1\" /><polyline clip-path=\"url(#clip452)\" style=\"stroke:#009af9; stroke-width:4; stroke-opacity:1; fill:none\" points=\"\n",
       "  257.343,1771.66 274.469,1474.2 291.594,1266.03 308.72,1077.17 325.845,938.9 342.97,847.808 360.096,749.715 377.221,664.65 394.346,595.245 411.472,535.183 \n",
       "  428.597,492.022 445.723,453.399 462.848,419.8 479.973,390.902 497.099,367.496 514.224,344.552 531.349,325.146 548.475,311.696 565.6,296.551 582.726,281.684 \n",
       "  599.851,268.893 616.976,257.747 634.102,247.341 651.227,237.169 668.352,229.558 685.478,221.776 702.603,215.626 719.729,209.432 736.854,203.804 753.979,199.195 \n",
       "  771.105,194.448 788.23,190.669 805.356,186.668 822.481,183.288 839.606,180.379 856.732,177.596 873.857,174.962 890.982,172.73 908.108,170.631 925.233,168.647 \n",
       "  942.359,167.018 959.484,165.374 976.609,163.864 993.735,162.492 1010.86,161.296 1027.99,160.165 1045.11,159.129 1062.24,158.295 1079.36,157.408 1096.49,156.601 \n",
       "  1113.61,155.915 1130.74,155.287 1147.86,154.677 1164.99,154.441 1182.11,154.014 1199.24,153.808 1216.36,153.712 1233.49,153.712 1250.62,153.712 1267.74,153.712 \n",
       "  1284.87,153.712 1301.99,153.712 1319.12,153.712 1336.24,153.712 1353.37,153.712 1370.49,153.712 1387.62,153.712 1404.74,153.712 1421.87,153.712 1438.99,153.712 \n",
       "  1456.12,153.712 1473.25,153.712 1490.37,153.712 1507.5,153.712 1524.62,153.712 1541.75,153.712 1558.87,153.712 1576,153.712 1593.12,153.712 1610.25,153.712 \n",
       "  1627.37,153.712 1644.5,153.712 1661.62,153.712 1678.75,153.712 1695.88,153.712 1713,153.712 1730.13,153.712 1747.25,153.712 1764.38,153.712 1781.5,153.712 \n",
       "  1798.63,153.712 1815.75,153.712 1832.88,153.712 1850,153.712 1867.13,153.712 1884.25,153.712 1901.38,153.712 1918.51,153.712 1935.63,153.712 1952.76,153.712 \n",
       "  \n",
       "  \"/>\n",
       "<polyline clip-path=\"url(#clip452)\" style=\"stroke:#e26f46; stroke-width:4; stroke-opacity:1; fill:none\" points=\"\n",
       "  257.343,1771.66 274.469,1462.1 291.594,1217.35 308.72,1024.16 325.845,898.863 342.97,788.903 360.096,694.277 377.221,615.841 394.346,558.562 411.472,513.691 \n",
       "  428.597,473.57 445.723,431.529 462.848,393.21 479.973,367.276 497.099,339.454 514.224,313.981 531.349,297.427 548.475,283.659 565.6,267.986 582.726,252.226 \n",
       "  599.851,242.38 616.976,233.204 634.102,223.946 651.227,216.581 668.352,210.196 685.478,204.638 702.603,199.135 719.729,194.581 736.854,190.671 753.979,186.594 \n",
       "  771.105,182.661 788.23,180.096 805.356,177.083 822.481,174.341 839.606,172.726 856.732,170.495 873.857,168.521 890.982,167.158 908.108,165.528 925.233,163.786 \n",
       "  942.359,162.628 959.484,161.637 976.609,160.846 993.735,159.356 1010.86,158.385 1027.99,157.468 1045.11,156.9 1062.24,156.019 1079.36,155.487 1096.49,154.982 \n",
       "  1113.61,154.724 1130.74,154.493 1147.86,154.052 1164.99,153.81 1182.11,153.712 1199.24,153.712 1216.36,153.712 1233.49,153.712 1250.62,153.712 1267.74,153.712 \n",
       "  1284.87,153.712 1301.99,153.712 1319.12,153.712 1336.24,153.712 1353.37,153.712 1370.49,153.712 1387.62,153.712 1404.74,153.712 1421.87,153.712 1438.99,153.712 \n",
       "  1456.12,153.712 1473.25,153.712 1490.37,153.712 1507.5,153.712 1524.62,153.712 1541.75,153.712 1558.87,153.712 1576,153.712 1593.12,153.712 1610.25,153.712 \n",
       "  1627.37,153.712 1644.5,153.712 1661.62,153.712 1678.75,153.712 1695.88,153.712 1713,153.712 1730.13,153.712 1747.25,153.712 1764.38,153.712 1781.5,153.712 \n",
       "  1798.63,153.712 1815.75,153.712 1832.88,153.712 1850,153.712 1867.13,153.712 1884.25,153.712 1901.38,153.712 1918.51,153.712 1935.63,153.712 1952.76,153.712 \n",
       "  \n",
       "  \"/>\n",
       "<polyline clip-path=\"url(#clip452)\" style=\"stroke:#3da44d; stroke-width:4; stroke-opacity:1; fill:none\" points=\"\n",
       "  257.343,1771.66 274.469,1640.14 291.594,1524.27 308.72,1396.99 325.845,1288.73 342.97,1216.42 360.096,1129.72 377.221,1041.34 394.346,960.149 411.472,885.721 \n",
       "  428.597,831.592 445.723,774.503 462.848,722.066 479.973,676.818 497.099,640.45 514.224,599.43 531.349,566.022 548.475,542.341 565.6,512.739 582.726,484.406 \n",
       "  599.851,456.073 616.976,435.775 634.102,409.556 651.227,386.297 668.352,370.228 685.478,352.044 702.603,336.397 719.729,322.019 736.854,305.95 753.979,294.955 \n",
       "  771.105,282.691 788.23,272.542 805.356,261.547 822.481,251.821 839.606,242.517 856.732,234.483 873.857,226.871 890.982,220.105 908.108,212.916 925.233,206.572 \n",
       "  942.359,201.075 959.484,196 976.609,190.926 993.735,185.851 1010.86,181.622 1027.99,178.239 1045.11,174.433 1062.24,171.473 1079.36,168.09 1096.49,165.13 \n",
       "  1113.61,162.593 1130.74,160.055 1147.86,157.518 1164.99,156.672 1182.11,154.981 1199.24,154.135 1216.36,153.712 1233.49,153.712 1250.62,153.712 1267.74,153.712 \n",
       "  1284.87,153.712 1301.99,153.712 1319.12,153.712 1336.24,153.712 1353.37,153.712 1370.49,153.712 1387.62,153.712 1404.74,153.712 1421.87,153.712 1438.99,153.712 \n",
       "  1456.12,153.712 1473.25,153.712 1490.37,153.712 1507.5,153.712 1524.62,153.712 1541.75,153.712 1558.87,153.712 1576,153.712 1593.12,153.712 1610.25,153.712 \n",
       "  1627.37,153.712 1644.5,153.712 1661.62,153.712 1678.75,153.712 1695.88,153.712 1713,153.712 1730.13,153.712 1747.25,153.712 1764.38,153.712 1781.5,153.712 \n",
       "  1798.63,153.712 1815.75,153.712 1832.88,153.712 1850,153.712 1867.13,153.712 1884.25,153.712 1901.38,153.712 1918.51,153.712 1935.63,153.712 1952.76,153.712 \n",
       "  \n",
       "  \"/>\n",
       "<polyline clip-path=\"url(#clip452)\" style=\"stroke:#c271d2; stroke-width:4; stroke-opacity:1; fill:none\" points=\"\n",
       "  257.343,1771.66 274.469,1610.12 291.594,1458.3 308.72,1327.63 325.845,1241.79 342.97,1130.99 360.096,1031.62 377.221,945.771 394.346,867.96 411.472,814.254 \n",
       "  428.597,753.782 445.723,697.962 462.848,647.639 479.973,604.505 497.099,562.216 514.224,526.694 531.349,494.978 548.475,468.759 565.6,439.581 582.726,412.939 \n",
       "  599.851,390.949 616.976,371.497 634.102,351.198 651.227,333.437 668.352,316.522 685.478,301.721 702.603,287.766 719.729,275.079 736.854,265.353 753.979,254.358 \n",
       "  771.105,244.209 788.23,237.443 805.356,228.985 822.481,221.796 839.606,215.876 856.732,209.11 873.857,203.189 890.982,198.961 908.108,193.463 925.233,187.966 \n",
       "  942.359,184.16 959.484,180.354 976.609,177.394 993.735,173.165 1010.86,169.782 1027.99,166.821 1045.11,164.707 1062.24,162.17 1079.36,160.478 1096.49,158.364 \n",
       "  1113.61,157.518 1130.74,156.672 1147.86,154.981 1164.99,154.135 1182.11,153.712 1199.24,153.712 1216.36,153.712 1233.49,153.712 1250.62,153.712 1267.74,153.712 \n",
       "  1284.87,153.712 1301.99,153.712 1319.12,153.712 1336.24,153.712 1353.37,153.712 1370.49,153.712 1387.62,153.712 1404.74,153.712 1421.87,153.712 1438.99,153.712 \n",
       "  1456.12,153.712 1473.25,153.712 1490.37,153.712 1507.5,153.712 1524.62,153.712 1541.75,153.712 1558.87,153.712 1576,153.712 1593.12,153.712 1610.25,153.712 \n",
       "  1627.37,153.712 1644.5,153.712 1661.62,153.712 1678.75,153.712 1695.88,153.712 1713,153.712 1730.13,153.712 1747.25,153.712 1764.38,153.712 1781.5,153.712 \n",
       "  1798.63,153.712 1815.75,153.712 1832.88,153.712 1850,153.712 1867.13,153.712 1884.25,153.712 1901.38,153.712 1918.51,153.712 1935.63,153.712 1952.76,153.712 \n",
       "  \n",
       "  \"/>\n",
       "<path clip-path=\"url(#clip450)\" d=\"\n",
       "M1370.65 1717.73 L1895.67 1717.73 L1895.67 1415.33 L1370.65 1415.33  Z\n",
       "  \" fill=\"#ffffff\" fill-rule=\"evenodd\" fill-opacity=\"1\"/>\n",
       "<polyline clip-path=\"url(#clip450)\" style=\"stroke:#000000; stroke-width:4; stroke-opacity:1; fill:none\" points=\"\n",
       "  1370.65,1717.73 1895.67,1717.73 1895.67,1415.33 1370.65,1415.33 1370.65,1717.73 \n",
       "  \"/>\n",
       "<polyline clip-path=\"url(#clip450)\" style=\"stroke:#009af9; stroke-width:4; stroke-opacity:1; fill:none\" points=\"\n",
       "  1389.67,1475.81 1503.84,1475.81 \n",
       "  \"/>\n",
       "<path clip-path=\"url(#clip450)\" d=\"M 0 0 M1534.77 1470.15 Q1531.34 1470.15 1529.35 1472.83 Q1527.36 1475.5 1527.36 1480.15 Q1527.36 1484.8 1529.33 1487.49 Q1531.32 1490.15 1534.77 1490.15 Q1538.17 1490.15 1540.16 1487.46 Q1542.15 1484.78 1542.15 1480.15 Q1542.15 1475.54 1540.16 1472.86 Q1538.17 1470.15 1534.77 1470.15 M1534.77 1466.54 Q1540.32 1466.54 1543.5 1470.15 Q1546.67 1473.76 1546.67 1480.15 Q1546.67 1486.51 1543.5 1490.15 Q1540.32 1493.76 1534.77 1493.76 Q1529.19 1493.76 1526.02 1490.15 Q1522.87 1486.51 1522.87 1480.15 Q1522.87 1473.76 1526.02 1470.15 Q1529.19 1466.54 1534.77 1466.54 Z\" fill=\"#000000\" fill-rule=\"evenodd\" fill-opacity=\"1\" /><path clip-path=\"url(#clip450)\" d=\"M 0 0 M1566.16 1471.14 Q1565.44 1470.73 1564.58 1470.54 Q1563.75 1470.33 1562.73 1470.33 Q1559.12 1470.33 1557.18 1472.69 Q1555.26 1475.03 1555.26 1479.43 L1555.26 1493.09 L1550.97 1493.09 L1550.97 1467.16 L1555.26 1467.16 L1555.26 1471.19 Q1556.6 1468.83 1558.75 1467.69 Q1560.9 1466.54 1563.98 1466.54 Q1564.42 1466.54 1564.95 1466.61 Q1565.49 1466.65 1566.13 1466.77 L1566.16 1471.14 Z\" fill=\"#000000\" fill-rule=\"evenodd\" fill-opacity=\"1\" /><path clip-path=\"url(#clip450)\" d=\"M 0 0 M1570.63 1467.16 L1574.88 1467.16 L1574.88 1493.09 L1570.63 1493.09 L1570.63 1467.16 M1570.63 1457.07 L1574.88 1457.07 L1574.88 1462.46 L1570.63 1462.46 L1570.63 1457.07 Z\" fill=\"#000000\" fill-rule=\"evenodd\" fill-opacity=\"1\" /><path clip-path=\"url(#clip450)\" d=\"M 0 0 M1596.41 1479.82 Q1596.41 1475.19 1594.49 1472.65 Q1592.59 1470.1 1589.14 1470.1 Q1585.72 1470.1 1583.8 1472.65 Q1581.9 1475.19 1581.9 1479.82 Q1581.9 1484.43 1583.8 1486.98 Q1585.72 1489.52 1589.14 1489.52 Q1592.59 1489.52 1594.49 1486.98 Q1596.41 1484.43 1596.41 1479.82 M1600.67 1489.87 Q1600.67 1496.49 1597.73 1499.71 Q1594.79 1502.95 1588.73 1502.95 Q1586.48 1502.95 1584.49 1502.6 Q1582.5 1502.28 1580.63 1501.58 L1580.63 1497.44 Q1582.5 1498.46 1584.33 1498.94 Q1586.16 1499.43 1588.06 1499.43 Q1592.25 1499.43 1594.33 1497.23 Q1596.41 1495.06 1596.41 1490.63 L1596.41 1488.53 Q1595.09 1490.82 1593.03 1491.95 Q1590.97 1493.09 1588.1 1493.09 Q1583.33 1493.09 1580.42 1489.45 Q1577.5 1485.82 1577.5 1479.82 Q1577.5 1473.81 1580.42 1470.17 Q1583.33 1466.54 1588.1 1466.54 Q1590.97 1466.54 1593.03 1467.67 Q1595.09 1468.81 1596.41 1471.1 L1596.41 1467.16 L1600.67 1467.16 L1600.67 1489.87 Z\" fill=\"#000000\" fill-rule=\"evenodd\" fill-opacity=\"1\" /><path clip-path=\"url(#clip450)\" d=\"M 0 0 M1605.14 1467.16 L1609.4 1467.16 L1609.4 1493.09 L1605.14 1493.09 L1605.14 1467.16 M1605.14 1457.07 L1609.4 1457.07 L1609.4 1462.46 L1605.14 1462.46 L1605.14 1457.07 Z\" fill=\"#000000\" fill-rule=\"evenodd\" fill-opacity=\"1\" /><path clip-path=\"url(#clip450)\" d=\"M 0 0 M1635.42 1477.44 L1635.42 1493.09 L1631.16 1493.09 L1631.16 1477.58 Q1631.16 1473.9 1629.72 1472.07 Q1628.29 1470.24 1625.42 1470.24 Q1621.97 1470.24 1619.98 1472.44 Q1617.99 1474.64 1617.99 1478.44 L1617.99 1493.09 L1613.7 1493.09 L1613.7 1467.16 L1617.99 1467.16 L1617.99 1471.19 Q1619.51 1468.85 1621.57 1467.69 Q1623.66 1466.54 1626.37 1466.54 Q1630.83 1466.54 1633.13 1469.32 Q1635.42 1472.07 1635.42 1477.44 Z\" fill=\"#000000\" fill-rule=\"evenodd\" fill-opacity=\"1\" /><path clip-path=\"url(#clip450)\" d=\"M 0 0 M1651.67 1480.06 Q1646.5 1480.06 1644.51 1481.24 Q1642.52 1482.42 1642.52 1485.26 Q1642.52 1487.53 1644 1488.88 Q1645.51 1490.19 1648.08 1490.19 Q1651.62 1490.19 1653.75 1487.69 Q1655.9 1485.17 1655.9 1481 L1655.9 1480.06 L1651.67 1480.06 M1660.16 1478.3 L1660.16 1493.09 L1655.9 1493.09 L1655.9 1489.15 Q1654.44 1491.51 1652.27 1492.65 Q1650.09 1493.76 1646.94 1493.76 Q1642.96 1493.76 1640.6 1491.54 Q1638.26 1489.29 1638.26 1485.54 Q1638.26 1481.17 1641.18 1478.94 Q1644.12 1476.72 1649.93 1476.72 L1655.9 1476.72 L1655.9 1476.31 Q1655.9 1473.37 1653.96 1471.77 Q1652.04 1470.15 1648.54 1470.15 Q1646.32 1470.15 1644.21 1470.68 Q1642.11 1471.21 1640.16 1472.28 L1640.16 1468.34 Q1642.5 1467.44 1644.7 1467 Q1646.9 1466.54 1648.98 1466.54 Q1654.61 1466.54 1657.38 1469.45 Q1660.16 1472.37 1660.16 1478.3 Z\" fill=\"#000000\" fill-rule=\"evenodd\" fill-opacity=\"1\" /><path clip-path=\"url(#clip450)\" d=\"M 0 0 M1664.63 1457.07 L1668.89 1457.07 L1668.89 1493.09 L1664.63 1493.09 L1664.63 1457.07 Z\" fill=\"#000000\" fill-rule=\"evenodd\" fill-opacity=\"1\" /><path clip-path=\"url(#clip450)\" d=\"M 0 0 M1705.49 1479.82 Q1705.49 1475.19 1703.56 1472.65 Q1701.67 1470.1 1698.22 1470.1 Q1694.79 1470.1 1692.87 1472.65 Q1690.97 1475.19 1690.97 1479.82 Q1690.97 1484.43 1692.87 1486.98 Q1694.79 1489.52 1698.22 1489.52 Q1701.67 1489.52 1703.56 1486.98 Q1705.49 1484.43 1705.49 1479.82 M1709.75 1489.87 Q1709.75 1496.49 1706.81 1499.71 Q1703.87 1502.95 1697.8 1502.95 Q1695.56 1502.95 1693.56 1502.6 Q1691.57 1502.28 1689.7 1501.58 L1689.7 1497.44 Q1691.57 1498.46 1693.4 1498.94 Q1695.23 1499.43 1697.13 1499.43 Q1701.32 1499.43 1703.4 1497.23 Q1705.49 1495.06 1705.49 1490.63 L1705.49 1488.53 Q1704.17 1490.82 1702.11 1491.95 Q1700.05 1493.09 1697.18 1493.09 Q1692.41 1493.09 1689.49 1489.45 Q1686.57 1485.82 1686.57 1479.82 Q1686.57 1473.81 1689.49 1470.17 Q1692.41 1466.54 1697.18 1466.54 Q1700.05 1466.54 1702.11 1467.67 Q1704.17 1468.81 1705.49 1471.1 L1705.49 1467.16 L1709.75 1467.16 L1709.75 1489.87 Z\" fill=\"#000000\" fill-rule=\"evenodd\" fill-opacity=\"1\" /><path clip-path=\"url(#clip450)\" d=\"M 0 0 M1736.39 1479.06 L1736.39 1481.14 L1716.81 1481.14 Q1717.08 1485.54 1719.44 1487.86 Q1721.83 1490.15 1726.06 1490.15 Q1728.52 1490.15 1730.81 1489.55 Q1733.12 1488.94 1735.39 1487.74 L1735.39 1491.77 Q1733.1 1492.74 1730.69 1493.25 Q1728.29 1493.76 1725.81 1493.76 Q1719.61 1493.76 1715.97 1490.15 Q1712.36 1486.54 1712.36 1480.38 Q1712.36 1474.01 1715.79 1470.29 Q1719.24 1466.54 1725.07 1466.54 Q1730.3 1466.54 1733.33 1469.92 Q1736.39 1473.27 1736.39 1479.06 M1732.13 1477.81 Q1732.08 1474.32 1730.16 1472.23 Q1728.26 1470.15 1725.12 1470.15 Q1721.55 1470.15 1719.4 1472.16 Q1717.27 1474.18 1716.94 1477.83 L1732.13 1477.81 Z\" fill=\"#000000\" fill-rule=\"evenodd\" fill-opacity=\"1\" /><path clip-path=\"url(#clip450)\" d=\"M 0 0 M1762.41 1477.44 L1762.41 1493.09 L1758.15 1493.09 L1758.15 1477.58 Q1758.15 1473.9 1756.71 1472.07 Q1755.28 1470.24 1752.41 1470.24 Q1748.96 1470.24 1746.97 1472.44 Q1744.98 1474.64 1744.98 1478.44 L1744.98 1493.09 L1740.69 1493.09 L1740.69 1467.16 L1744.98 1467.16 L1744.98 1471.19 Q1746.5 1468.85 1748.56 1467.69 Q1750.65 1466.54 1753.36 1466.54 Q1757.82 1466.54 1760.12 1469.32 Q1762.41 1472.07 1762.41 1477.44 Z\" fill=\"#000000\" fill-rule=\"evenodd\" fill-opacity=\"1\" /><path clip-path=\"url(#clip450)\" d=\"M 0 0 M1776.92 1470.15 Q1773.49 1470.15 1771.5 1472.83 Q1769.51 1475.5 1769.51 1480.15 Q1769.51 1484.8 1771.48 1487.49 Q1773.47 1490.15 1776.92 1490.15 Q1780.32 1490.15 1782.31 1487.46 Q1784.31 1484.78 1784.31 1480.15 Q1784.31 1475.54 1782.31 1472.86 Q1780.32 1470.15 1776.92 1470.15 M1776.92 1466.54 Q1782.48 1466.54 1785.65 1470.15 Q1788.82 1473.76 1788.82 1480.15 Q1788.82 1486.51 1785.65 1490.15 Q1782.48 1493.76 1776.92 1493.76 Q1771.34 1493.76 1768.17 1490.15 Q1765.02 1486.51 1765.02 1480.15 Q1765.02 1473.76 1768.17 1470.15 Q1771.34 1466.54 1776.92 1466.54 Z\" fill=\"#000000\" fill-rule=\"evenodd\" fill-opacity=\"1\" /><path clip-path=\"url(#clip450)\" d=\"M 0 0 M1813.47 1472.14 Q1815.07 1469.27 1817.29 1467.9 Q1819.51 1466.54 1822.52 1466.54 Q1826.57 1466.54 1828.77 1469.38 Q1830.97 1472.21 1830.97 1477.44 L1830.97 1493.09 L1826.69 1493.09 L1826.69 1477.58 Q1826.69 1473.85 1825.37 1472.05 Q1824.05 1470.24 1821.34 1470.24 Q1818.03 1470.24 1816.11 1472.44 Q1814.19 1474.64 1814.19 1478.44 L1814.19 1493.09 L1809.91 1493.09 L1809.91 1477.58 Q1809.91 1473.83 1808.59 1472.05 Q1807.27 1470.24 1804.51 1470.24 Q1801.25 1470.24 1799.33 1472.46 Q1797.41 1474.66 1797.41 1478.44 L1797.41 1493.09 L1793.12 1493.09 L1793.12 1467.16 L1797.41 1467.16 L1797.41 1471.19 Q1798.87 1468.81 1800.9 1467.67 Q1802.94 1466.54 1805.74 1466.54 Q1808.56 1466.54 1810.53 1467.97 Q1812.52 1469.41 1813.47 1472.14 Z\" fill=\"#000000\" fill-rule=\"evenodd\" fill-opacity=\"1\" /><path clip-path=\"url(#clip450)\" d=\"M 0 0 M1857.61 1479.06 L1857.61 1481.14 L1838.03 1481.14 Q1838.31 1485.54 1840.67 1487.86 Q1843.05 1490.15 1847.29 1490.15 Q1849.74 1490.15 1852.04 1489.55 Q1854.35 1488.94 1856.62 1487.74 L1856.62 1491.77 Q1854.33 1492.74 1851.92 1493.25 Q1849.51 1493.76 1847.04 1493.76 Q1840.83 1493.76 1837.2 1490.15 Q1833.59 1486.54 1833.59 1480.38 Q1833.59 1474.01 1837.01 1470.29 Q1840.46 1466.54 1846.3 1466.54 Q1851.53 1466.54 1854.56 1469.92 Q1857.61 1473.27 1857.61 1479.06 M1853.36 1477.81 Q1853.31 1474.32 1851.39 1472.23 Q1849.49 1470.15 1846.34 1470.15 Q1842.78 1470.15 1840.62 1472.16 Q1838.49 1474.18 1838.17 1477.83 L1853.36 1477.81 Z\" fill=\"#000000\" fill-rule=\"evenodd\" fill-opacity=\"1\" /><polyline clip-path=\"url(#clip450)\" style=\"stroke:#e26f46; stroke-width:4; stroke-opacity:1; fill:none\" points=\"\n",
       "  1389.67,1536.29 1503.84,1536.29 \n",
       "  \"/>\n",
       "<path clip-path=\"url(#clip450)\" d=\"M 0 0 M1544.58 1537.92 L1544.58 1553.57 L1540.32 1553.57 L1540.32 1538.06 Q1540.32 1534.38 1538.89 1532.55 Q1537.45 1530.72 1534.58 1530.72 Q1531.14 1530.72 1529.14 1532.92 Q1527.15 1535.12 1527.15 1538.92 L1527.15 1553.57 L1522.87 1553.57 L1522.87 1527.64 L1527.15 1527.64 L1527.15 1531.67 Q1528.68 1529.33 1530.74 1528.17 Q1532.82 1527.02 1535.53 1527.02 Q1540 1527.02 1542.29 1529.8 Q1544.58 1532.55 1544.58 1537.92 Z\" fill=\"#000000\" fill-rule=\"evenodd\" fill-opacity=\"1\" /><path clip-path=\"url(#clip450)\" d=\"M 0 0 M1571.23 1539.54 L1571.23 1541.62 L1551.64 1541.62 Q1551.92 1546.02 1554.28 1548.34 Q1556.67 1550.63 1560.9 1550.63 Q1563.36 1550.63 1565.65 1550.03 Q1567.96 1549.42 1570.23 1548.22 L1570.23 1552.25 Q1567.94 1553.22 1565.53 1553.73 Q1563.13 1554.24 1560.65 1554.24 Q1554.45 1554.24 1550.81 1550.63 Q1547.2 1547.02 1547.2 1540.86 Q1547.2 1534.49 1550.63 1530.77 Q1554.07 1527.02 1559.91 1527.02 Q1565.14 1527.02 1568.17 1530.4 Q1571.23 1533.75 1571.23 1539.54 M1566.97 1538.29 Q1566.92 1534.8 1565 1532.71 Q1563.1 1530.63 1559.95 1530.63 Q1556.39 1530.63 1554.24 1532.64 Q1552.11 1534.66 1551.78 1538.31 L1566.97 1538.29 Z\" fill=\"#000000\" fill-rule=\"evenodd\" fill-opacity=\"1\" /><path clip-path=\"url(#clip450)\" d=\"M 0 0 M1573.22 1527.64 L1577.48 1527.64 L1582.8 1547.87 L1588.1 1527.64 L1593.13 1527.64 L1598.45 1547.87 L1603.75 1527.64 L1608.01 1527.64 L1601.23 1553.57 L1596.2 1553.57 L1590.63 1532.32 L1585.02 1553.57 L1580 1553.57 L1573.22 1527.64 Z\" fill=\"#000000\" fill-rule=\"evenodd\" fill-opacity=\"1\" /><path clip-path=\"url(#clip450)\" d=\"M 0 0 M1644.61 1540.3 Q1644.61 1535.67 1642.69 1533.13 Q1640.79 1530.58 1637.34 1530.58 Q1633.91 1530.58 1631.99 1533.13 Q1630.09 1535.67 1630.09 1540.3 Q1630.09 1544.91 1631.99 1547.46 Q1633.91 1550 1637.34 1550 Q1640.79 1550 1642.69 1547.46 Q1644.61 1544.91 1644.61 1540.3 M1648.87 1550.35 Q1648.87 1556.97 1645.93 1560.19 Q1642.99 1563.43 1636.92 1563.43 Q1634.68 1563.43 1632.69 1563.08 Q1630.69 1562.76 1628.82 1562.06 L1628.82 1557.92 Q1630.69 1558.94 1632.52 1559.42 Q1634.35 1559.91 1636.25 1559.91 Q1640.44 1559.91 1642.52 1557.71 Q1644.61 1555.54 1644.61 1551.11 L1644.61 1549.01 Q1643.29 1551.3 1641.23 1552.43 Q1639.17 1553.57 1636.3 1553.57 Q1631.53 1553.57 1628.61 1549.93 Q1625.69 1546.3 1625.69 1540.3 Q1625.69 1534.29 1628.61 1530.65 Q1631.53 1527.02 1636.3 1527.02 Q1639.17 1527.02 1641.23 1528.15 Q1643.29 1529.29 1644.61 1531.58 L1644.61 1527.64 L1648.87 1527.64 L1648.87 1550.35 Z\" fill=\"#000000\" fill-rule=\"evenodd\" fill-opacity=\"1\" /><path clip-path=\"url(#clip450)\" d=\"M 0 0 M1675.51 1539.54 L1675.51 1541.62 L1655.93 1541.62 Q1656.2 1546.02 1658.57 1548.34 Q1660.95 1550.63 1665.19 1550.63 Q1667.64 1550.63 1669.93 1550.03 Q1672.25 1549.42 1674.51 1548.22 L1674.51 1552.25 Q1672.22 1553.22 1669.81 1553.73 Q1667.41 1554.24 1664.93 1554.24 Q1658.73 1554.24 1655.09 1550.63 Q1651.48 1547.02 1651.48 1540.86 Q1651.48 1534.49 1654.91 1530.77 Q1658.36 1527.02 1664.19 1527.02 Q1669.42 1527.02 1672.45 1530.4 Q1675.51 1533.75 1675.51 1539.54 M1671.25 1538.29 Q1671.2 1534.8 1669.28 1532.71 Q1667.38 1530.63 1664.24 1530.63 Q1660.67 1530.63 1658.52 1532.64 Q1656.39 1534.66 1656.07 1538.31 L1671.25 1538.29 Z\" fill=\"#000000\" fill-rule=\"evenodd\" fill-opacity=\"1\" /><path clip-path=\"url(#clip450)\" d=\"M 0 0 M1701.53 1537.92 L1701.53 1553.57 L1697.27 1553.57 L1697.27 1538.06 Q1697.27 1534.38 1695.83 1532.55 Q1694.4 1530.72 1691.53 1530.72 Q1688.08 1530.72 1686.09 1532.92 Q1684.1 1535.12 1684.1 1538.92 L1684.1 1553.57 L1679.81 1553.57 L1679.81 1527.64 L1684.1 1527.64 L1684.1 1531.67 Q1685.63 1529.33 1687.69 1528.17 Q1689.77 1527.02 1692.48 1527.02 Q1696.94 1527.02 1699.24 1529.8 Q1701.53 1532.55 1701.53 1537.92 Z\" fill=\"#000000\" fill-rule=\"evenodd\" fill-opacity=\"1\" /><path clip-path=\"url(#clip450)\" d=\"M 0 0 M1716.04 1530.63 Q1712.62 1530.63 1710.62 1533.31 Q1708.63 1535.98 1708.63 1540.63 Q1708.63 1545.28 1710.6 1547.97 Q1712.59 1550.63 1716.04 1550.63 Q1719.44 1550.63 1721.44 1547.94 Q1723.43 1545.26 1723.43 1540.63 Q1723.43 1536.02 1721.44 1533.34 Q1719.44 1530.63 1716.04 1530.63 M1716.04 1527.02 Q1721.6 1527.02 1724.77 1530.63 Q1727.94 1534.24 1727.94 1540.63 Q1727.94 1546.99 1724.77 1550.63 Q1721.6 1554.24 1716.04 1554.24 Q1710.46 1554.24 1707.29 1550.63 Q1704.14 1546.99 1704.14 1540.63 Q1704.14 1534.24 1707.29 1530.63 Q1710.46 1527.02 1716.04 1527.02 Z\" fill=\"#000000\" fill-rule=\"evenodd\" fill-opacity=\"1\" /><path clip-path=\"url(#clip450)\" d=\"M 0 0 M1752.59 1532.62 Q1754.19 1529.75 1756.41 1528.38 Q1758.63 1527.02 1761.64 1527.02 Q1765.69 1527.02 1767.89 1529.86 Q1770.09 1532.69 1770.09 1537.92 L1770.09 1553.57 L1765.81 1553.57 L1765.81 1538.06 Q1765.81 1534.33 1764.49 1532.53 Q1763.17 1530.72 1760.46 1530.72 Q1757.15 1530.72 1755.23 1532.92 Q1753.31 1535.12 1753.31 1538.92 L1753.31 1553.57 L1749.03 1553.57 L1749.03 1538.06 Q1749.03 1534.31 1747.71 1532.53 Q1746.39 1530.72 1743.63 1530.72 Q1740.37 1530.72 1738.45 1532.94 Q1736.53 1535.14 1736.53 1538.92 L1736.53 1553.57 L1732.25 1553.57 L1732.25 1527.64 L1736.53 1527.64 L1736.53 1531.67 Q1737.99 1529.29 1740.02 1528.15 Q1742.06 1527.02 1744.86 1527.02 Q1747.68 1527.02 1749.65 1528.45 Q1751.64 1529.89 1752.59 1532.62 Z\" fill=\"#000000\" fill-rule=\"evenodd\" fill-opacity=\"1\" /><path clip-path=\"url(#clip450)\" d=\"M 0 0 M1796.74 1539.54 L1796.74 1541.62 L1777.15 1541.62 Q1777.43 1546.02 1779.79 1548.34 Q1782.18 1550.63 1786.41 1550.63 Q1788.87 1550.63 1791.16 1550.03 Q1793.47 1549.42 1795.74 1548.22 L1795.74 1552.25 Q1793.45 1553.22 1791.04 1553.73 Q1788.63 1554.24 1786.16 1554.24 Q1779.95 1554.24 1776.32 1550.63 Q1772.71 1547.02 1772.71 1540.86 Q1772.71 1534.49 1776.13 1530.77 Q1779.58 1527.02 1785.42 1527.02 Q1790.65 1527.02 1793.68 1530.4 Q1796.74 1533.75 1796.74 1539.54 M1792.48 1538.29 Q1792.43 1534.8 1790.51 1532.71 Q1788.61 1530.63 1785.46 1530.63 Q1781.9 1530.63 1779.74 1532.64 Q1777.62 1534.66 1777.29 1538.31 L1792.48 1538.29 Z\" fill=\"#000000\" fill-rule=\"evenodd\" fill-opacity=\"1\" /><polyline clip-path=\"url(#clip450)\" style=\"stroke:#3da44d; stroke-width:4; stroke-opacity:1; fill:none\" points=\"\n",
       "  1389.67,1596.77 1503.84,1596.77 \n",
       "  \"/>\n",
       "<path clip-path=\"url(#clip450)\" d=\"M 0 0 M1534.77 1591.11 Q1531.34 1591.11 1529.35 1593.79 Q1527.36 1596.46 1527.36 1601.11 Q1527.36 1605.76 1529.33 1608.45 Q1531.32 1611.11 1534.77 1611.11 Q1538.17 1611.11 1540.16 1608.42 Q1542.15 1605.74 1542.15 1601.11 Q1542.15 1596.5 1540.16 1593.82 Q1538.17 1591.11 1534.77 1591.11 M1534.77 1587.5 Q1540.32 1587.5 1543.5 1591.11 Q1546.67 1594.72 1546.67 1601.11 Q1546.67 1607.47 1543.5 1611.11 Q1540.32 1614.72 1534.77 1614.72 Q1529.19 1614.72 1526.02 1611.11 Q1522.87 1607.47 1522.87 1601.11 Q1522.87 1594.72 1526.02 1591.11 Q1529.19 1587.5 1534.77 1587.5 Z\" fill=\"#000000\" fill-rule=\"evenodd\" fill-opacity=\"1\" /><path clip-path=\"url(#clip450)\" d=\"M 0 0 M1566.16 1592.1 Q1565.44 1591.69 1564.58 1591.5 Q1563.75 1591.29 1562.73 1591.29 Q1559.12 1591.29 1557.18 1593.65 Q1555.26 1595.99 1555.26 1600.39 L1555.26 1614.05 L1550.97 1614.05 L1550.97 1588.12 L1555.26 1588.12 L1555.26 1592.15 Q1556.6 1589.79 1558.75 1588.65 Q1560.9 1587.5 1563.98 1587.5 Q1564.42 1587.5 1564.95 1587.57 Q1565.49 1587.61 1566.13 1587.73 L1566.16 1592.1 Z\" fill=\"#000000\" fill-rule=\"evenodd\" fill-opacity=\"1\" /><path clip-path=\"url(#clip450)\" d=\"M 0 0 M1570.63 1588.12 L1574.88 1588.12 L1574.88 1614.05 L1570.63 1614.05 L1570.63 1588.12 M1570.63 1578.03 L1574.88 1578.03 L1574.88 1583.42 L1570.63 1583.42 L1570.63 1578.03 Z\" fill=\"#000000\" fill-rule=\"evenodd\" fill-opacity=\"1\" /><path clip-path=\"url(#clip450)\" d=\"M 0 0 M1596.41 1600.78 Q1596.41 1596.15 1594.49 1593.61 Q1592.59 1591.06 1589.14 1591.06 Q1585.72 1591.06 1583.8 1593.61 Q1581.9 1596.15 1581.9 1600.78 Q1581.9 1605.39 1583.8 1607.94 Q1585.72 1610.48 1589.14 1610.48 Q1592.59 1610.48 1594.49 1607.94 Q1596.41 1605.39 1596.41 1600.78 M1600.67 1610.83 Q1600.67 1617.45 1597.73 1620.67 Q1594.79 1623.91 1588.73 1623.91 Q1586.48 1623.91 1584.49 1623.56 Q1582.5 1623.24 1580.63 1622.54 L1580.63 1618.4 Q1582.5 1619.42 1584.33 1619.9 Q1586.16 1620.39 1588.06 1620.39 Q1592.25 1620.39 1594.33 1618.19 Q1596.41 1616.02 1596.41 1611.59 L1596.41 1609.49 Q1595.09 1611.78 1593.03 1612.91 Q1590.97 1614.05 1588.1 1614.05 Q1583.33 1614.05 1580.42 1610.41 Q1577.5 1606.78 1577.5 1600.78 Q1577.5 1594.77 1580.42 1591.13 Q1583.33 1587.5 1588.1 1587.5 Q1590.97 1587.5 1593.03 1588.63 Q1595.09 1589.77 1596.41 1592.06 L1596.41 1588.12 L1600.67 1588.12 L1600.67 1610.83 Z\" fill=\"#000000\" fill-rule=\"evenodd\" fill-opacity=\"1\" /><path clip-path=\"url(#clip450)\" d=\"M 0 0 M1605.14 1588.12 L1609.4 1588.12 L1609.4 1614.05 L1605.14 1614.05 L1605.14 1588.12 M1605.14 1578.03 L1609.4 1578.03 L1609.4 1583.42 L1605.14 1583.42 L1605.14 1578.03 Z\" fill=\"#000000\" fill-rule=\"evenodd\" fill-opacity=\"1\" /><path clip-path=\"url(#clip450)\" d=\"M 0 0 M1635.42 1598.4 L1635.42 1614.05 L1631.16 1614.05 L1631.16 1598.54 Q1631.16 1594.86 1629.72 1593.03 Q1628.29 1591.2 1625.42 1591.2 Q1621.97 1591.2 1619.98 1593.4 Q1617.99 1595.6 1617.99 1599.4 L1617.99 1614.05 L1613.7 1614.05 L1613.7 1588.12 L1617.99 1588.12 L1617.99 1592.15 Q1619.51 1589.81 1621.57 1588.65 Q1623.66 1587.5 1626.37 1587.5 Q1630.83 1587.5 1633.13 1590.28 Q1635.42 1593.03 1635.42 1598.4 Z\" fill=\"#000000\" fill-rule=\"evenodd\" fill-opacity=\"1\" /><path clip-path=\"url(#clip450)\" d=\"M 0 0 M1651.67 1601.02 Q1646.5 1601.02 1644.51 1602.2 Q1642.52 1603.38 1642.52 1606.22 Q1642.52 1608.49 1644 1609.84 Q1645.51 1611.15 1648.08 1611.15 Q1651.62 1611.15 1653.75 1608.65 Q1655.9 1606.13 1655.9 1601.96 L1655.9 1601.02 L1651.67 1601.02 M1660.16 1599.26 L1660.16 1614.05 L1655.9 1614.05 L1655.9 1610.11 Q1654.44 1612.47 1652.27 1613.61 Q1650.09 1614.72 1646.94 1614.72 Q1642.96 1614.72 1640.6 1612.5 Q1638.26 1610.25 1638.26 1606.5 Q1638.26 1602.13 1641.18 1599.9 Q1644.12 1597.68 1649.93 1597.68 L1655.9 1597.68 L1655.9 1597.27 Q1655.9 1594.33 1653.96 1592.73 Q1652.04 1591.11 1648.54 1591.11 Q1646.32 1591.11 1644.21 1591.64 Q1642.11 1592.17 1640.16 1593.24 L1640.16 1589.3 Q1642.5 1588.4 1644.7 1587.96 Q1646.9 1587.5 1648.98 1587.5 Q1654.61 1587.5 1657.38 1590.41 Q1660.16 1593.33 1660.16 1599.26 Z\" fill=\"#000000\" fill-rule=\"evenodd\" fill-opacity=\"1\" /><path clip-path=\"url(#clip450)\" d=\"M 0 0 M1664.63 1578.03 L1668.89 1578.03 L1668.89 1614.05 L1664.63 1614.05 L1664.63 1578.03 Z\" fill=\"#000000\" fill-rule=\"evenodd\" fill-opacity=\"1\" /><path clip-path=\"url(#clip450)\" d=\"M 0 0 M1709.98 1598.4 L1709.98 1614.05 L1705.72 1614.05 L1705.72 1598.54 Q1705.72 1594.86 1704.28 1593.03 Q1702.85 1591.2 1699.98 1591.2 Q1696.53 1591.2 1694.54 1593.4 Q1692.55 1595.6 1692.55 1599.4 L1692.55 1614.05 L1688.26 1614.05 L1688.26 1578.03 L1692.55 1578.03 L1692.55 1592.15 Q1694.07 1589.81 1696.13 1588.65 Q1698.22 1587.5 1700.93 1587.5 Q1705.39 1587.5 1707.69 1590.28 Q1709.98 1593.03 1709.98 1598.4 Z\" fill=\"#000000\" fill-rule=\"evenodd\" fill-opacity=\"1\" /><path clip-path=\"url(#clip450)\" d=\"M 0 0 M1726.23 1601.02 Q1721.06 1601.02 1719.07 1602.2 Q1717.08 1603.38 1717.08 1606.22 Q1717.08 1608.49 1718.56 1609.84 Q1720.07 1611.15 1722.64 1611.15 Q1726.18 1611.15 1728.31 1608.65 Q1730.46 1606.13 1730.46 1601.96 L1730.46 1601.02 L1726.23 1601.02 M1734.72 1599.26 L1734.72 1614.05 L1730.46 1614.05 L1730.46 1610.11 Q1729 1612.47 1726.83 1613.61 Q1724.65 1614.72 1721.5 1614.72 Q1717.52 1614.72 1715.16 1612.5 Q1712.82 1610.25 1712.82 1606.5 Q1712.82 1602.13 1715.74 1599.9 Q1718.68 1597.68 1724.49 1597.68 L1730.46 1597.68 L1730.46 1597.27 Q1730.46 1594.33 1728.52 1592.73 Q1726.6 1591.11 1723.1 1591.11 Q1720.88 1591.11 1718.77 1591.64 Q1716.67 1592.17 1714.72 1593.24 L1714.72 1589.3 Q1717.06 1588.4 1719.26 1587.96 Q1721.46 1587.5 1723.54 1587.5 Q1729.17 1587.5 1731.94 1590.41 Q1734.72 1593.33 1734.72 1599.26 Z\" fill=\"#000000\" fill-rule=\"evenodd\" fill-opacity=\"1\" /><path clip-path=\"url(#clip450)\" d=\"M 0 0 M1743.31 1610.16 L1743.31 1623.91 L1739.03 1623.91 L1739.03 1588.12 L1743.31 1588.12 L1743.31 1592.06 Q1744.65 1589.74 1746.69 1588.63 Q1748.75 1587.5 1751.6 1587.5 Q1756.32 1587.5 1759.26 1591.25 Q1762.22 1595 1762.22 1601.11 Q1762.22 1607.22 1759.26 1610.97 Q1756.32 1614.72 1751.6 1614.72 Q1748.75 1614.72 1746.69 1613.61 Q1744.65 1612.47 1743.31 1610.16 M1757.8 1601.11 Q1757.8 1596.41 1755.86 1593.75 Q1753.93 1591.06 1750.56 1591.06 Q1747.18 1591.06 1745.23 1593.75 Q1743.31 1596.41 1743.31 1601.11 Q1743.31 1605.81 1745.23 1608.49 Q1747.18 1611.15 1750.56 1611.15 Q1753.93 1611.15 1755.86 1608.49 Q1757.8 1605.81 1757.8 1601.11 Z\" fill=\"#000000\" fill-rule=\"evenodd\" fill-opacity=\"1\" /><polyline clip-path=\"url(#clip450)\" style=\"stroke:#c271d2; stroke-width:4; stroke-opacity:1; fill:none\" points=\"\n",
       "  1389.67,1657.25 1503.84,1657.25 \n",
       "  \"/>\n",
       "<path clip-path=\"url(#clip450)\" d=\"M 0 0 M1544.58 1658.88 L1544.58 1674.53 L1540.32 1674.53 L1540.32 1659.02 Q1540.32 1655.34 1538.89 1653.51 Q1537.45 1651.68 1534.58 1651.68 Q1531.14 1651.68 1529.14 1653.88 Q1527.15 1656.08 1527.15 1659.88 L1527.15 1674.53 L1522.87 1674.53 L1522.87 1648.6 L1527.15 1648.6 L1527.15 1652.63 Q1528.68 1650.29 1530.74 1649.13 Q1532.82 1647.98 1535.53 1647.98 Q1540 1647.98 1542.29 1650.76 Q1544.58 1653.51 1544.58 1658.88 Z\" fill=\"#000000\" fill-rule=\"evenodd\" fill-opacity=\"1\" /><path clip-path=\"url(#clip450)\" d=\"M 0 0 M1571.23 1660.5 L1571.23 1662.58 L1551.64 1662.58 Q1551.92 1666.98 1554.28 1669.3 Q1556.67 1671.59 1560.9 1671.59 Q1563.36 1671.59 1565.65 1670.99 Q1567.96 1670.38 1570.23 1669.18 L1570.23 1673.21 Q1567.94 1674.18 1565.53 1674.69 Q1563.13 1675.2 1560.65 1675.2 Q1554.45 1675.2 1550.81 1671.59 Q1547.2 1667.98 1547.2 1661.82 Q1547.2 1655.45 1550.63 1651.73 Q1554.07 1647.98 1559.91 1647.98 Q1565.14 1647.98 1568.17 1651.36 Q1571.23 1654.71 1571.23 1660.5 M1566.97 1659.25 Q1566.92 1655.76 1565 1653.67 Q1563.1 1651.59 1559.95 1651.59 Q1556.39 1651.59 1554.24 1653.6 Q1552.11 1655.62 1551.78 1659.27 L1566.97 1659.25 Z\" fill=\"#000000\" fill-rule=\"evenodd\" fill-opacity=\"1\" /><path clip-path=\"url(#clip450)\" d=\"M 0 0 M1573.22 1648.6 L1577.48 1648.6 L1582.8 1668.83 L1588.1 1648.6 L1593.13 1648.6 L1598.45 1668.83 L1603.75 1648.6 L1608.01 1648.6 L1601.23 1674.53 L1596.2 1674.53 L1590.63 1653.28 L1585.02 1674.53 L1580 1674.53 L1573.22 1648.6 Z\" fill=\"#000000\" fill-rule=\"evenodd\" fill-opacity=\"1\" /><path clip-path=\"url(#clip450)\" d=\"M 0 0 M1649.1 1658.88 L1649.1 1674.53 L1644.84 1674.53 L1644.84 1659.02 Q1644.84 1655.34 1643.4 1653.51 Q1641.97 1651.68 1639.1 1651.68 Q1635.65 1651.68 1633.66 1653.88 Q1631.67 1656.08 1631.67 1659.88 L1631.67 1674.53 L1627.38 1674.53 L1627.38 1638.51 L1631.67 1638.51 L1631.67 1652.63 Q1633.19 1650.29 1635.25 1649.13 Q1637.34 1647.98 1640.05 1647.98 Q1644.51 1647.98 1646.81 1650.76 Q1649.1 1653.51 1649.1 1658.88 Z\" fill=\"#000000\" fill-rule=\"evenodd\" fill-opacity=\"1\" /><path clip-path=\"url(#clip450)\" d=\"M 0 0 M1665.35 1661.5 Q1660.19 1661.5 1658.19 1662.68 Q1656.2 1663.86 1656.2 1666.7 Q1656.2 1668.97 1657.69 1670.32 Q1659.19 1671.63 1661.76 1671.63 Q1665.3 1671.63 1667.43 1669.13 Q1669.58 1666.61 1669.58 1662.44 L1669.58 1661.5 L1665.35 1661.5 M1673.84 1659.74 L1673.84 1674.53 L1669.58 1674.53 L1669.58 1670.59 Q1668.13 1672.95 1665.95 1674.09 Q1663.77 1675.2 1660.63 1675.2 Q1656.64 1675.2 1654.28 1672.98 Q1651.94 1670.73 1651.94 1666.98 Q1651.94 1662.61 1654.86 1660.38 Q1657.8 1658.16 1663.61 1658.16 L1669.58 1658.16 L1669.58 1657.75 Q1669.58 1654.81 1667.64 1653.21 Q1665.72 1651.59 1662.22 1651.59 Q1660 1651.59 1657.89 1652.12 Q1655.79 1652.65 1653.84 1653.72 L1653.84 1649.78 Q1656.18 1648.88 1658.38 1648.44 Q1660.58 1647.98 1662.66 1647.98 Q1668.29 1647.98 1671.06 1650.89 Q1673.84 1653.81 1673.84 1659.74 Z\" fill=\"#000000\" fill-rule=\"evenodd\" fill-opacity=\"1\" /><path clip-path=\"url(#clip450)\" d=\"M 0 0 M1682.43 1670.64 L1682.43 1684.39 L1678.15 1684.39 L1678.15 1648.6 L1682.43 1648.6 L1682.43 1652.54 Q1683.77 1650.22 1685.81 1649.11 Q1687.87 1647.98 1690.72 1647.98 Q1695.44 1647.98 1698.38 1651.73 Q1701.34 1655.48 1701.34 1661.59 Q1701.34 1667.7 1698.38 1671.45 Q1695.44 1675.2 1690.72 1675.2 Q1687.87 1675.2 1685.81 1674.09 Q1683.77 1672.95 1682.43 1670.64 M1696.92 1661.59 Q1696.92 1656.89 1694.98 1654.23 Q1693.06 1651.54 1689.68 1651.54 Q1686.3 1651.54 1684.35 1654.23 Q1682.43 1656.89 1682.43 1661.59 Q1682.43 1666.29 1684.35 1668.97 Q1686.3 1671.63 1689.68 1671.63 Q1693.06 1671.63 1694.98 1668.97 Q1696.92 1666.29 1696.92 1661.59 Z\" fill=\"#000000\" fill-rule=\"evenodd\" fill-opacity=\"1\" /></svg>\n"
      ]
     },
     "execution_count": 21,
     "metadata": {},
     "output_type": "execute_result"
    }
   ],
   "source": [
    "using Plots, DelimitedFiles\n",
    "genome_coverage1 = \"original/genome_coverage.txt\"\n",
    "genome_coverage2 = \"new/genome_coverage.txt\"\n",
    "hap_coverage1 = \"original/haplotype_coverage.txt\"\n",
    "hap_coverage2 = \"new/haplotype_coverage.txt\"\n",
    "\n",
    "g1      = readdlm(genome_coverage1,',',header=true)[1][:,2][1:100]\n",
    "g2      = readdlm(genome_coverage2,',',header=true)[1][:,2][1:100]\n",
    "h1      = readdlm(hap_coverage1,',',header=true)[1][:,2][1:100]\n",
    "h2      = readdlm(hap_coverage2,',',header=true)[1][:,2][1:100]\n",
    "nsteps  = 100\n",
    "\n",
    "line_plot=plot(size=(500,500),\n",
    "     xlim=(0,nsteps),ylim=(0,1),\n",
    "     xaxis = (font(10), 0:5:nsteps),yaxis = (font(10), 0:0.1:1),\n",
    "     title=\"LPChoose\",\n",
    "     ylabel = \"coverage\",xlabel = \"number of steps\",\n",
    "     legend=:bottomright\n",
    ")\n",
    "\n",
    "plot!(1:nsteps,g1,markercolor=:green,label=\"original genome\")\n",
    "plot!(1:nsteps,g2,markercolor=:red,label=\"new genome\")\n",
    "plot!(1:nsteps,h1,markercolor=:blue,label=\"original hap\")\n",
    "plot!(1:nsteps,h2,markercolor=:yellow,label=\"new hap\")"
   ]
  },
  {
   "cell_type": "code",
   "execution_count": 5,
   "metadata": {},
   "outputs": [
    {
     "data": {
      "text/plain": [
       "10-element Array{Float64,1}:\n",
       "  0.31617447475434735\n",
       "  1.8905559845659405\n",
       " -2.0390350670668136\n",
       "  2.1731199662796263\n",
       " -1.1395533251025598\n",
       " -0.3613401409284478\n",
       " -1.0889651190886263\n",
       " -0.1681267163337099\n",
       "  2.108052009233217\n",
       "  4.082959168905739"
      ]
     },
     "execution_count": 5,
     "metadata": {},
     "output_type": "execute_result"
    }
   ],
   "source": [
    "sum([A01now[:,i]*select_this_animal[i] for i= 1:3])"
   ]
  },
  {
   "cell_type": "code",
   "execution_count": null,
   "metadata": {},
   "outputs": [],
   "source": []
  }
 ],
 "metadata": {
  "kernelspec": {
   "display_name": "Julia 1.4.2",
   "language": "julia",
   "name": "julia-1.4"
  },
  "language_info": {
   "file_extension": ".jl",
   "mimetype": "application/julia",
   "name": "julia",
   "version": "1.4.2"
  }
 },
 "nbformat": 4,
 "nbformat_minor": 4
}
